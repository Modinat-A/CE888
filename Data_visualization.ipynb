{
  "nbformat": 4,
  "nbformat_minor": 0,
  "metadata": {
    "colab": {
      "name": "Data_visualization.ipynb",
      "provenance": [],
      "authorship_tag": "ABX9TyOeQvWDPz48lvpaLB2ellvI",
      "include_colab_link": true
    },
    "kernelspec": {
      "name": "python3",
      "display_name": "Python 3"
    },
    "language_info": {
      "name": "python"
    }
  },
  "cells": [
    {
      "cell_type": "markdown",
      "metadata": {
        "id": "view-in-github",
        "colab_type": "text"
      },
      "source": [
        "<a href=\"https://colab.research.google.com/github/Modinat-A/CE888/blob/main/Data_visualization.ipynb\" target=\"_parent\"><img src=\"https://colab.research.google.com/assets/colab-badge.svg\" alt=\"Open In Colab\"/></a>"
      ]
    },
    {
      "cell_type": "code",
      "execution_count": 6,
      "metadata": {
        "id": "OoCJgbonOMAc"
      },
      "outputs": [],
      "source": [
        "%matplotlib inline\n",
        "import matplotlib\n",
        "import numpy as np\n",
        "import matplotlib.pyplot as plt\n",
        "import pandas as pd\n",
        "import seaborn as sns\n",
        "\n",
        "from sklearn.datasets import load_wine\n",
        "\n",
        "from sklearn.preprocessing import LabelEncoder, StandardScaler, OneHotEncoder\n",
        "from sklearn.decomposition import PCA\n",
        "from sklearn.cluster import KMeans\n",
        "from sklearn.metrics import silhouette_score"
      ]
    },
    {
      "cell_type": "code",
      "source": [
        "data = load_wine(as_frame=True)\n",
        "df = data.data.copy()  # features\n",
        "df['y'] = data.target\n",
        "df.head()"
      ],
      "metadata": {
        "colab": {
          "base_uri": "https://localhost:8080/",
          "height": 268
        },
        "id": "SqfKPoEqOR8Q",
        "outputId": "cff5c978-f8cd-47f9-cf51-70a7ecc7cdf8"
      },
      "execution_count": 7,
      "outputs": [
        {
          "output_type": "execute_result",
          "data": {
            "text/html": [
              "\n",
              "  <div id=\"df-6580511f-b19c-4494-8e71-966e037687db\">\n",
              "    <div class=\"colab-df-container\">\n",
              "      <div>\n",
              "<style scoped>\n",
              "    .dataframe tbody tr th:only-of-type {\n",
              "        vertical-align: middle;\n",
              "    }\n",
              "\n",
              "    .dataframe tbody tr th {\n",
              "        vertical-align: top;\n",
              "    }\n",
              "\n",
              "    .dataframe thead th {\n",
              "        text-align: right;\n",
              "    }\n",
              "</style>\n",
              "<table border=\"1\" class=\"dataframe\">\n",
              "  <thead>\n",
              "    <tr style=\"text-align: right;\">\n",
              "      <th></th>\n",
              "      <th>alcohol</th>\n",
              "      <th>malic_acid</th>\n",
              "      <th>ash</th>\n",
              "      <th>alcalinity_of_ash</th>\n",
              "      <th>magnesium</th>\n",
              "      <th>total_phenols</th>\n",
              "      <th>flavanoids</th>\n",
              "      <th>nonflavanoid_phenols</th>\n",
              "      <th>proanthocyanins</th>\n",
              "      <th>color_intensity</th>\n",
              "      <th>hue</th>\n",
              "      <th>od280/od315_of_diluted_wines</th>\n",
              "      <th>proline</th>\n",
              "      <th>y</th>\n",
              "    </tr>\n",
              "  </thead>\n",
              "  <tbody>\n",
              "    <tr>\n",
              "      <th>0</th>\n",
              "      <td>14.23</td>\n",
              "      <td>1.71</td>\n",
              "      <td>2.43</td>\n",
              "      <td>15.6</td>\n",
              "      <td>127.0</td>\n",
              "      <td>2.80</td>\n",
              "      <td>3.06</td>\n",
              "      <td>0.28</td>\n",
              "      <td>2.29</td>\n",
              "      <td>5.64</td>\n",
              "      <td>1.04</td>\n",
              "      <td>3.92</td>\n",
              "      <td>1065.0</td>\n",
              "      <td>0</td>\n",
              "    </tr>\n",
              "    <tr>\n",
              "      <th>1</th>\n",
              "      <td>13.20</td>\n",
              "      <td>1.78</td>\n",
              "      <td>2.14</td>\n",
              "      <td>11.2</td>\n",
              "      <td>100.0</td>\n",
              "      <td>2.65</td>\n",
              "      <td>2.76</td>\n",
              "      <td>0.26</td>\n",
              "      <td>1.28</td>\n",
              "      <td>4.38</td>\n",
              "      <td>1.05</td>\n",
              "      <td>3.40</td>\n",
              "      <td>1050.0</td>\n",
              "      <td>0</td>\n",
              "    </tr>\n",
              "    <tr>\n",
              "      <th>2</th>\n",
              "      <td>13.16</td>\n",
              "      <td>2.36</td>\n",
              "      <td>2.67</td>\n",
              "      <td>18.6</td>\n",
              "      <td>101.0</td>\n",
              "      <td>2.80</td>\n",
              "      <td>3.24</td>\n",
              "      <td>0.30</td>\n",
              "      <td>2.81</td>\n",
              "      <td>5.68</td>\n",
              "      <td>1.03</td>\n",
              "      <td>3.17</td>\n",
              "      <td>1185.0</td>\n",
              "      <td>0</td>\n",
              "    </tr>\n",
              "    <tr>\n",
              "      <th>3</th>\n",
              "      <td>14.37</td>\n",
              "      <td>1.95</td>\n",
              "      <td>2.50</td>\n",
              "      <td>16.8</td>\n",
              "      <td>113.0</td>\n",
              "      <td>3.85</td>\n",
              "      <td>3.49</td>\n",
              "      <td>0.24</td>\n",
              "      <td>2.18</td>\n",
              "      <td>7.80</td>\n",
              "      <td>0.86</td>\n",
              "      <td>3.45</td>\n",
              "      <td>1480.0</td>\n",
              "      <td>0</td>\n",
              "    </tr>\n",
              "    <tr>\n",
              "      <th>4</th>\n",
              "      <td>13.24</td>\n",
              "      <td>2.59</td>\n",
              "      <td>2.87</td>\n",
              "      <td>21.0</td>\n",
              "      <td>118.0</td>\n",
              "      <td>2.80</td>\n",
              "      <td>2.69</td>\n",
              "      <td>0.39</td>\n",
              "      <td>1.82</td>\n",
              "      <td>4.32</td>\n",
              "      <td>1.04</td>\n",
              "      <td>2.93</td>\n",
              "      <td>735.0</td>\n",
              "      <td>0</td>\n",
              "    </tr>\n",
              "  </tbody>\n",
              "</table>\n",
              "</div>\n",
              "      <button class=\"colab-df-convert\" onclick=\"convertToInteractive('df-6580511f-b19c-4494-8e71-966e037687db')\"\n",
              "              title=\"Convert this dataframe to an interactive table.\"\n",
              "              style=\"display:none;\">\n",
              "        \n",
              "  <svg xmlns=\"http://www.w3.org/2000/svg\" height=\"24px\"viewBox=\"0 0 24 24\"\n",
              "       width=\"24px\">\n",
              "    <path d=\"M0 0h24v24H0V0z\" fill=\"none\"/>\n",
              "    <path d=\"M18.56 5.44l.94 2.06.94-2.06 2.06-.94-2.06-.94-.94-2.06-.94 2.06-2.06.94zm-11 1L8.5 8.5l.94-2.06 2.06-.94-2.06-.94L8.5 2.5l-.94 2.06-2.06.94zm10 10l.94 2.06.94-2.06 2.06-.94-2.06-.94-.94-2.06-.94 2.06-2.06.94z\"/><path d=\"M17.41 7.96l-1.37-1.37c-.4-.4-.92-.59-1.43-.59-.52 0-1.04.2-1.43.59L10.3 9.45l-7.72 7.72c-.78.78-.78 2.05 0 2.83L4 21.41c.39.39.9.59 1.41.59.51 0 1.02-.2 1.41-.59l7.78-7.78 2.81-2.81c.8-.78.8-2.07 0-2.86zM5.41 20L4 18.59l7.72-7.72 1.47 1.35L5.41 20z\"/>\n",
              "  </svg>\n",
              "      </button>\n",
              "      \n",
              "  <style>\n",
              "    .colab-df-container {\n",
              "      display:flex;\n",
              "      flex-wrap:wrap;\n",
              "      gap: 12px;\n",
              "    }\n",
              "\n",
              "    .colab-df-convert {\n",
              "      background-color: #E8F0FE;\n",
              "      border: none;\n",
              "      border-radius: 50%;\n",
              "      cursor: pointer;\n",
              "      display: none;\n",
              "      fill: #1967D2;\n",
              "      height: 32px;\n",
              "      padding: 0 0 0 0;\n",
              "      width: 32px;\n",
              "    }\n",
              "\n",
              "    .colab-df-convert:hover {\n",
              "      background-color: #E2EBFA;\n",
              "      box-shadow: 0px 1px 2px rgba(60, 64, 67, 0.3), 0px 1px 3px 1px rgba(60, 64, 67, 0.15);\n",
              "      fill: #174EA6;\n",
              "    }\n",
              "\n",
              "    [theme=dark] .colab-df-convert {\n",
              "      background-color: #3B4455;\n",
              "      fill: #D2E3FC;\n",
              "    }\n",
              "\n",
              "    [theme=dark] .colab-df-convert:hover {\n",
              "      background-color: #434B5C;\n",
              "      box-shadow: 0px 1px 3px 1px rgba(0, 0, 0, 0.15);\n",
              "      filter: drop-shadow(0px 1px 2px rgba(0, 0, 0, 0.3));\n",
              "      fill: #FFFFFF;\n",
              "    }\n",
              "  </style>\n",
              "\n",
              "      <script>\n",
              "        const buttonEl =\n",
              "          document.querySelector('#df-6580511f-b19c-4494-8e71-966e037687db button.colab-df-convert');\n",
              "        buttonEl.style.display =\n",
              "          google.colab.kernel.accessAllowed ? 'block' : 'none';\n",
              "\n",
              "        async function convertToInteractive(key) {\n",
              "          const element = document.querySelector('#df-6580511f-b19c-4494-8e71-966e037687db');\n",
              "          const dataTable =\n",
              "            await google.colab.kernel.invokeFunction('convertToInteractive',\n",
              "                                                     [key], {});\n",
              "          if (!dataTable) return;\n",
              "\n",
              "          const docLinkHtml = 'Like what you see? Visit the ' +\n",
              "            '<a target=\"_blank\" href=https://colab.research.google.com/notebooks/data_table.ipynb>data table notebook</a>'\n",
              "            + ' to learn more about interactive tables.';\n",
              "          element.innerHTML = '';\n",
              "          dataTable['output_type'] = 'display_data';\n",
              "          await google.colab.output.renderOutput(dataTable, element);\n",
              "          const docLink = document.createElement('div');\n",
              "          docLink.innerHTML = docLinkHtml;\n",
              "          element.appendChild(docLink);\n",
              "        }\n",
              "      </script>\n",
              "    </div>\n",
              "  </div>\n",
              "  "
            ],
            "text/plain": [
              "   alcohol  malic_acid   ash  alcalinity_of_ash  magnesium  total_phenols  \\\n",
              "0    14.23        1.71  2.43               15.6      127.0           2.80   \n",
              "1    13.20        1.78  2.14               11.2      100.0           2.65   \n",
              "2    13.16        2.36  2.67               18.6      101.0           2.80   \n",
              "3    14.37        1.95  2.50               16.8      113.0           3.85   \n",
              "4    13.24        2.59  2.87               21.0      118.0           2.80   \n",
              "\n",
              "   flavanoids  nonflavanoid_phenols  proanthocyanins  color_intensity   hue  \\\n",
              "0        3.06                  0.28             2.29             5.64  1.04   \n",
              "1        2.76                  0.26             1.28             4.38  1.05   \n",
              "2        3.24                  0.30             2.81             5.68  1.03   \n",
              "3        3.49                  0.24             2.18             7.80  0.86   \n",
              "4        2.69                  0.39             1.82             4.32  1.04   \n",
              "\n",
              "   od280/od315_of_diluted_wines  proline  y  \n",
              "0                          3.92   1065.0  0  \n",
              "1                          3.40   1050.0  0  \n",
              "2                          3.17   1185.0  0  \n",
              "3                          3.45   1480.0  0  \n",
              "4                          2.93    735.0  0  "
            ]
          },
          "metadata": {},
          "execution_count": 7
        }
      ]
    },
    {
      "cell_type": "code",
      "source": [
        "#How many samples and features are there?\n",
        "\n",
        "num_of_samples = len(df.index)\n",
        "num_of_features = len(df.columns)\n",
        "print('number of samples:', num_of_samples , 'number of features:', num_of_features )"
      ],
      "metadata": {
        "colab": {
          "base_uri": "https://localhost:8080/"
        },
        "id": "_VETCHB5PX7F",
        "outputId": "c1b6152e-6143-4dee-9aac-81a6d5b79c2e"
      },
      "execution_count": 8,
      "outputs": [
        {
          "output_type": "stream",
          "name": "stdout",
          "text": [
            "number of samples: 178 number of features: 14\n"
          ]
        }
      ]
    },
    {
      "cell_type": "code",
      "source": [
        "# Quiz Q1\n",
        "# How many instances are there for each class? \n",
        "df['y'].value_counts()"
      ],
      "metadata": {
        "colab": {
          "base_uri": "https://localhost:8080/"
        },
        "id": "5qXZucoxPxCz",
        "outputId": "ec65cae0-324d-4612-cbb9-b86d65dc7d69"
      },
      "execution_count": 9,
      "outputs": [
        {
          "output_type": "execute_result",
          "data": {
            "text/plain": [
              "1    71\n",
              "0    59\n",
              "2    48\n",
              "Name: y, dtype: int64"
            ]
          },
          "metadata": {},
          "execution_count": 9
        }
      ]
    },
    {
      "cell_type": "code",
      "source": [
        "# Calculate the means, medians, and standard deviations of each feature\n",
        "df.mean()"
      ],
      "metadata": {
        "colab": {
          "base_uri": "https://localhost:8080/"
        },
        "id": "CPnDqhWdP5C1",
        "outputId": "66b07b68-c144-421d-e4c6-9cec952b5884"
      },
      "execution_count": 10,
      "outputs": [
        {
          "output_type": "execute_result",
          "data": {
            "text/plain": [
              "alcohol                          13.000618\n",
              "malic_acid                        2.336348\n",
              "ash                               2.366517\n",
              "alcalinity_of_ash                19.494944\n",
              "magnesium                        99.741573\n",
              "total_phenols                     2.295112\n",
              "flavanoids                        2.029270\n",
              "nonflavanoid_phenols              0.361854\n",
              "proanthocyanins                   1.590899\n",
              "color_intensity                   5.058090\n",
              "hue                               0.957449\n",
              "od280/od315_of_diluted_wines      2.611685\n",
              "proline                         746.893258\n",
              "y                                 0.938202\n",
              "dtype: float64"
            ]
          },
          "metadata": {},
          "execution_count": 10
        }
      ]
    },
    {
      "cell_type": "code",
      "source": [
        "df.median()"
      ],
      "metadata": {
        "colab": {
          "base_uri": "https://localhost:8080/"
        },
        "id": "ilE31YdiFQ44",
        "outputId": "cd8d6892-2bb8-4666-ca64-597b3403f781"
      },
      "execution_count": 11,
      "outputs": [
        {
          "output_type": "execute_result",
          "data": {
            "text/plain": [
              "alcohol                          13.050\n",
              "malic_acid                        1.865\n",
              "ash                               2.360\n",
              "alcalinity_of_ash                19.500\n",
              "magnesium                        98.000\n",
              "total_phenols                     2.355\n",
              "flavanoids                        2.135\n",
              "nonflavanoid_phenols              0.340\n",
              "proanthocyanins                   1.555\n",
              "color_intensity                   4.690\n",
              "hue                               0.965\n",
              "od280/od315_of_diluted_wines      2.780\n",
              "proline                         673.500\n",
              "y                                 1.000\n",
              "dtype: float64"
            ]
          },
          "metadata": {},
          "execution_count": 11
        }
      ]
    },
    {
      "cell_type": "code",
      "source": [
        "df.std()"
      ],
      "metadata": {
        "colab": {
          "base_uri": "https://localhost:8080/"
        },
        "id": "vDCBpUqrFVY9",
        "outputId": "f677522f-28ec-4750-be77-e7ca4e952575"
      },
      "execution_count": 12,
      "outputs": [
        {
          "output_type": "execute_result",
          "data": {
            "text/plain": [
              "alcohol                           0.811827\n",
              "malic_acid                        1.117146\n",
              "ash                               0.274344\n",
              "alcalinity_of_ash                 3.339564\n",
              "magnesium                        14.282484\n",
              "total_phenols                     0.625851\n",
              "flavanoids                        0.998859\n",
              "nonflavanoid_phenols              0.124453\n",
              "proanthocyanins                   0.572359\n",
              "color_intensity                   2.318286\n",
              "hue                               0.228572\n",
              "od280/od315_of_diluted_wines      0.709990\n",
              "proline                         314.907474\n",
              "y                                 0.775035\n",
              "dtype: float64"
            ]
          },
          "metadata": {},
          "execution_count": 12
        }
      ]
    },
    {
      "cell_type": "code",
      "source": [
        "df_wth_label = df[['alcohol', 'malic_acid', 'ash', 'alcalinity_of_ash', 'magnesium',\n",
        "       'total_phenols', 'flavanoids', 'nonflavanoid_phenols',\n",
        "       'proanthocyanins', 'color_intensity', 'hue','proline',\n",
        "       'od280/od315_of_diluted_wines']]"
      ],
      "metadata": {
        "id": "u1iIM_E-F51M"
      },
      "execution_count": 18,
      "outputs": []
    },
    {
      "cell_type": "code",
      "source": [
        "# Plot a boxplot of each feature (NOT THE LABEL!!) (all in one plot -- you can do this with a single line of code).\n",
        "# Quiz Q2: Is there any feature that is in a clearly different scale than the others?\n",
        "\n",
        "boxplot = df_wth_label.boxplot(figsize=(25,15))  "
      ],
      "metadata": {
        "colab": {
          "base_uri": "https://localhost:8080/",
          "height": 779
        },
        "id": "5_Xl7wnm-KSP",
        "outputId": "de852133-8ed8-4796-c7c7-aaa72d9768f1"
      },
      "execution_count": 20,
      "outputs": [
        {
          "output_type": "display_data",
          "data": {
            "image/png": "[encoded data removed]",
            "text/plain": [
              "<Figure size 1800x1080 with 1 Axes>"
            ]
          },
          "metadata": {
            "needs_background": "light"
          }
        }
      ]
    },
    {
      "cell_type": "code",
      "source": [
        "# Let's look at the distributions of values of our features. Draw a histogram for each of the features\n",
        "hist1 = pd.DataFrame.hist(df_wth_label,figsize=(20,15))"
      ],
      "metadata": {
        "colab": {
          "base_uri": "https://localhost:8080/",
          "height": 879
        },
        "id": "-t7sXKW9-M6-",
        "outputId": "fe851276-239a-4e72-cc13-193e558330bd"
      },
      "execution_count": 21,
      "outputs": [
        {
          "output_type": "display_data",
          "data": {
            "image/png": "[encoded data removed]",
            "text/plain": [
              "<Figure size 1440x1080 with 16 Axes>"
            ]
          },
          "metadata": {
            "needs_background": "light"
          }
        }
      ]
    },
    {
      "cell_type": "code",
      "source": [
        "# Calculate the correlations between each pair of variables\n",
        "coor = df_wth_label.corr()\n",
        "\n",
        "# plot the heatmap\n",
        "sns.heatmap(coor, \n",
        "        xticklabels=coor.columns,\n",
        "        yticklabels=coor.columns)\n"
      ],
      "metadata": {
        "colab": {
          "base_uri": "https://localhost:8080/",
          "height": 431
        },
        "id": "caC419Ru-QkD",
        "outputId": "60508994-6a82-47df-c4fc-e71211d50a73"
      },
      "execution_count": 22,
      "outputs": [
        {
          "output_type": "execute_result",
          "data": {
            "text/plain": [
              "<matplotlib.axes._subplots.AxesSubplot at 0x7f37eadb1e10>"
            ]
          },
          "metadata": {},
          "execution_count": 22
        },
        {
          "output_type": "display_data",
          "data": {
            "image/png": "[encoded data removed]",
            "text/plain": [
              "<Figure size 432x288 with 2 Axes>"
            ]
          },
          "metadata": {
            "needs_background": "light"
          }
        }
      ]
    },
    {
      "cell_type": "code",
      "source": [
        "# What is the highest correlation between features?\n",
        "s = coor.unstack()\n",
        "so = s.sort_values(kind=\"quicksort\")\n",
        "print(so)"
      ],
      "metadata": {
        "colab": {
          "base_uri": "https://localhost:8080/"
        },
        "id": "rM7ZIeRw-UUZ",
        "outputId": "b373b68d-e1d2-4605-e691-74a2cf70a159"
      },
      "execution_count": 23,
      "outputs": [
        {
          "output_type": "stream",
          "name": "stdout",
          "text": [
            "hue                           malic_acid                     -0.561296\n",
            "malic_acid                    hue                            -0.561296\n",
            "flavanoids                    nonflavanoid_phenols           -0.537900\n",
            "nonflavanoid_phenols          flavanoids                     -0.537900\n",
            "hue                           color_intensity                -0.521813\n",
            "                                                                ...   \n",
            "alcalinity_of_ash             alcalinity_of_ash               1.000000\n",
            "ash                           ash                             1.000000\n",
            "malic_acid                    malic_acid                      1.000000\n",
            "proline                       proline                         1.000000\n",
            "od280/od315_of_diluted_wines  od280/od315_of_diluted_wines    1.000000\n",
            "Length: 169, dtype: float64\n"
          ]
        }
      ]
    },
    {
      "cell_type": "code",
      "source": [
        "from sklearn.preprocessing import StandardScaler\n",
        "from sklearn.decomposition import PCA\n",
        "import numpy as np\n",
        "import pandas as pd\n",
        "\n",
        "def std_pca(df,variance=0.5):\n",
        "      y = df[['y']]\n",
        "      x = df.loc[:, df.columns!='y'].values\n",
        "      x_transformed= StandardScaler().fit_transform(x)\n",
        "      pca = PCA(n_components=0.5,random_state=100)\n",
        "      pcomp = pca.fit_transform(x_transformed)\n",
        "      print(np.cumsum(pca.explained_variance_ratio_))\n",
        "      df= pd.DataFrame(data= pcomp, columns=['principalcomponent1','principalcomponent2'])\n",
        "      fdf = pd.concat([df,y],axis =1)\n",
        "      return fdf.values\n",
        "\n"
      ],
      "metadata": {
        "id": "sNzvHx-aLJ_l"
      },
      "execution_count": 57,
      "outputs": []
    },
    {
      "cell_type": "code",
      "source": [
        "std_pca(df)"
      ],
      "metadata": {
        "colab": {
          "base_uri": "https://localhost:8080/"
        },
        "id": "ly7dEBR2GJxj",
        "outputId": "87c16057-94cd-4f39-bcb8-675684d766e0"
      },
      "execution_count": 63,
      "outputs": [
        {
          "output_type": "stream",
          "name": "stdout",
          "text": [
            "[0.36198848 0.55406338]\n"
          ]
        },
        {
          "output_type": "execute_result",
          "data": {
            "text/plain": [
              "array([[ 3.31675081, -1.44346263,  0.        ],\n",
              "       [ 2.20946492,  0.33339289,  0.        ],\n",
              "       [ 2.51674015, -1.0311513 ,  0.        ],\n",
              "       [ 3.75706561, -2.75637191,  0.        ],\n",
              "       [ 1.00890849, -0.86983082,  0.        ],\n",
              "       [ 3.05025392, -2.12240111,  0.        ],\n",
              "       [ 2.44908967, -1.17485013,  0.        ],\n",
              "       [ 2.05943687, -1.60896307,  0.        ],\n",
              "       [ 2.5108743 , -0.91807096,  0.        ],\n",
              "       [ 2.75362819, -0.78943767,  0.        ],\n",
              "       [ 3.47973668, -1.30233324,  0.        ],\n",
              "       [ 1.7547529 , -0.61197723,  0.        ],\n",
              "       [ 2.11346234, -0.67570634,  0.        ],\n",
              "       [ 3.45815682, -1.13062988,  0.        ],\n",
              "       [ 4.31278391, -2.09597558,  0.        ],\n",
              "       [ 2.3051882 , -1.66255173,  0.        ],\n",
              "       [ 2.17195527, -2.32730534,  0.        ],\n",
              "       [ 1.89897118, -1.63136888,  0.        ],\n",
              "       [ 3.54198508, -2.51834367,  0.        ],\n",
              "       [ 2.0845222 , -1.06113799,  0.        ],\n",
              "       [ 3.12440254, -0.78689711,  0.        ],\n",
              "       [ 1.08657007, -0.24174355,  0.        ],\n",
              "       [ 2.53522408,  0.09184062,  0.        ],\n",
              "       [ 1.64498834,  0.51627893,  0.        ],\n",
              "       [ 1.76157587,  0.31714893,  0.        ],\n",
              "       [ 0.9900791 , -0.94066734,  0.        ],\n",
              "       [ 1.77527763, -0.68617513,  0.        ],\n",
              "       [ 1.23542396,  0.08980704,  0.        ],\n",
              "       [ 2.18840633, -0.68956962,  0.        ],\n",
              "       [ 2.25610898, -0.19146194,  0.        ],\n",
              "       [ 2.50022003, -1.24083383,  0.        ],\n",
              "       [ 2.67741105, -1.47187365,  0.        ],\n",
              "       [ 1.62857912, -0.05270445,  0.        ],\n",
              "       [ 1.90269086, -1.63306043,  0.        ],\n",
              "       [ 1.41038853, -0.69793432,  0.        ],\n",
              "       [ 1.90382623, -0.17671095,  0.        ],\n",
              "       [ 1.38486223, -0.65863985,  0.        ],\n",
              "       [ 1.12220741, -0.11410976,  0.        ],\n",
              "       [ 1.5021945 ,  0.76943201,  0.        ],\n",
              "       [ 2.52980109, -1.80300198,  0.        ],\n",
              "       [ 2.58809543, -0.7796163 ,  0.        ],\n",
              "       [ 0.66848199, -0.16996094,  0.        ],\n",
              "       [ 3.07080699, -1.15591896,  0.        ],\n",
              "       [ 0.46220914, -0.33074213,  0.        ],\n",
              "       [ 2.10135193,  0.07100892,  0.        ],\n",
              "       [ 1.13616618, -1.77710739,  0.        ],\n",
              "       [ 2.72660096, -1.19133469,  0.        ],\n",
              "       [ 2.82133927, -0.6462586 ,  0.        ],\n",
              "       [ 2.00985085, -1.24702946,  0.        ],\n",
              "       [ 2.7074913 , -1.75196741,  0.        ],\n",
              "       [ 3.21491747, -0.16699199,  0.        ],\n",
              "       [ 2.85895983, -0.7452788 ,  0.        ],\n",
              "       [ 3.50560436, -1.61273386,  0.        ],\n",
              "       [ 2.22479138, -1.875168  ,  0.        ],\n",
              "       [ 2.14698782, -1.01675154,  0.        ],\n",
              "       [ 2.46932948, -1.32900831,  0.        ],\n",
              "       [ 2.74151791, -1.43654878,  0.        ],\n",
              "       [ 2.17374092, -1.21219984,  0.        ],\n",
              "       [ 3.13938015, -1.73157912,  0.        ],\n",
              "       [-0.92858197,  3.07348616,  1.        ],\n",
              "       [-1.54248014,  1.38144351,  1.        ],\n",
              "       [-1.83624976,  0.82998412,  1.        ],\n",
              "       [ 0.03060683,  1.26278614,  1.        ],\n",
              "       [ 2.05026161,  1.9250326 ,  1.        ],\n",
              "       [-0.60968083,  1.90805881,  1.        ],\n",
              "       [ 0.90022784,  0.76391147,  1.        ],\n",
              "       [ 2.24850719,  1.88459248,  1.        ],\n",
              "       [ 0.18338403,  2.42714611,  1.        ],\n",
              "       [-0.81280503,  0.22051399,  1.        ],\n",
              "       [ 1.9756205 ,  1.40328323,  1.        ],\n",
              "       [-1.57221622,  0.88498314,  1.        ],\n",
              "       [ 1.65768181,  0.9567122 ,  1.        ],\n",
              "       [-0.72537239,  1.0636454 ,  1.        ],\n",
              "       [ 2.56222717, -0.26019855,  1.        ],\n",
              "       [ 1.83256757,  1.2878782 ,  1.        ],\n",
              "       [-0.8679929 ,  2.44410119,  1.        ],\n",
              "       [ 0.3700144 ,  2.15390698,  1.        ],\n",
              "       [-1.45737704,  1.38335177,  1.        ],\n",
              "       [ 1.26293085,  0.77084953,  1.        ],\n",
              "       [ 0.37615037,  1.0270434 ,  1.        ],\n",
              "       [ 0.7620639 ,  3.37505381,  1.        ],\n",
              "       [ 1.03457797,  1.45070974,  1.        ],\n",
              "       [-0.49487676,  2.38124353,  1.        ],\n",
              "       [-2.53897708,  0.08744336,  1.        ],\n",
              "       [ 0.83532015,  1.47367055,  1.        ],\n",
              "       [ 0.78790461,  2.02662652,  1.        ],\n",
              "       [-0.80683216,  2.23383039,  1.        ],\n",
              "       [-0.55804262,  2.37298543,  1.        ],\n",
              "       [-1.11511104,  1.80224719,  1.        ],\n",
              "       [-0.55572283,  2.65754004,  1.        ],\n",
              "       [-1.34928528,  2.11800147,  1.        ],\n",
              "       [-1.56448261,  1.85221452,  1.        ],\n",
              "       [-1.93255561,  1.55949546,  1.        ],\n",
              "       [ 0.74666594,  2.31293171,  1.        ],\n",
              "       [ 0.95745536,  2.22352843,  1.        ],\n",
              "       [ 2.54386518, -0.16927402,  1.        ],\n",
              "       [-0.54395259,  0.36892655,  1.        ],\n",
              "       [ 1.03104975,  2.56556935,  1.        ],\n",
              "       [ 2.25190942,  1.43274138,  1.        ],\n",
              "       [ 1.41021602,  2.16619177,  1.        ],\n",
              "       [ 0.79771979,  2.3769488 ,  1.        ],\n",
              "       [-0.54953173,  2.29312864,  1.        ],\n",
              "       [-0.16117374,  1.16448332,  1.        ],\n",
              "       [-0.65979494,  2.67996119,  1.        ],\n",
              "       [ 0.39235441,  2.09873171,  1.        ],\n",
              "       [-1.77249908,  1.71728847,  1.        ],\n",
              "       [-0.36626736,  2.1693533 ,  1.        ],\n",
              "       [-1.62067257,  1.35558339,  1.        ],\n",
              "       [ 0.08253578,  2.30623459,  1.        ],\n",
              "       [ 1.57827507,  1.46203429,  1.        ],\n",
              "       [ 1.42056925,  1.41820664,  1.        ],\n",
              "       [-0.27870275,  1.93056809,  1.        ],\n",
              "       [-1.30314497,  0.76317231,  1.        ],\n",
              "       [-0.45707187,  2.26941561,  1.        ],\n",
              "       [-0.49418585,  1.93904505,  1.        ],\n",
              "       [ 0.48207441,  3.87178385,  1.        ],\n",
              "       [-0.25288888,  2.82149237,  1.        ],\n",
              "       [-0.10722764,  1.92892204,  1.        ],\n",
              "       [-2.4330126 ,  1.25714104,  1.        ],\n",
              "       [-0.55108954,  2.22216155,  1.        ],\n",
              "       [ 0.73962193,  1.40895667,  1.        ],\n",
              "       [ 1.33632173, -0.25333693,  1.        ],\n",
              "       [-1.177087  ,  0.66396684,  1.        ],\n",
              "       [-0.46233501,  0.61828818,  1.        ],\n",
              "       [ 0.97847408,  1.4455705 ,  1.        ],\n",
              "       [-0.09680973,  2.10999799,  1.        ],\n",
              "       [ 0.03848715,  1.26676211,  1.        ],\n",
              "       [-1.5971585 ,  1.20814357,  1.        ],\n",
              "       [-0.47956492,  1.93884066,  1.        ],\n",
              "       [-1.79283347,  1.1502881 ,  1.        ],\n",
              "       [-1.32710166, -0.17038923,  2.        ],\n",
              "       [-2.38450083, -0.37458261,  2.        ],\n",
              "       [-2.9369401 , -0.26386183,  2.        ],\n",
              "       [-2.14681113, -0.36825495,  2.        ],\n",
              "       [-2.36986949,  0.45963481,  2.        ],\n",
              "       [-3.06384157, -0.35341284,  2.        ],\n",
              "       [-3.91575378, -0.15458252,  2.        ],\n",
              "       [-3.93646339, -0.65968723,  2.        ],\n",
              "       [-3.09427612, -0.34884276,  2.        ],\n",
              "       [-2.37447163, -0.29198035,  2.        ],\n",
              "       [-2.77881295, -0.28680487,  2.        ],\n",
              "       [-2.28656128, -0.37250784,  2.        ],\n",
              "       [-2.98563349, -0.48921791,  2.        ],\n",
              "       [-2.3751947 , -0.48233372,  2.        ],\n",
              "       [-2.20986553, -1.1600525 ,  2.        ],\n",
              "       [-2.625621  , -0.56316076,  2.        ],\n",
              "       [-4.28063878, -0.64967096,  2.        ],\n",
              "       [-3.58264137, -1.27270275,  2.        ],\n",
              "       [-2.80706372, -1.57053379,  2.        ],\n",
              "       [-2.89965933, -2.04105701,  2.        ],\n",
              "       [-2.32073698, -2.35636608,  2.        ],\n",
              "       [-2.54983095, -2.04528309,  2.        ],\n",
              "       [-1.81254128, -1.52764595,  2.        ],\n",
              "       [-2.76014464, -2.13893235,  2.        ],\n",
              "       [-2.7371505 , -0.40988627,  2.        ],\n",
              "       [-3.60486887, -1.80238422,  2.        ],\n",
              "       [-2.889826  , -1.92521861,  2.        ],\n",
              "       [-3.39215608, -1.31187639,  2.        ],\n",
              "       [-1.0481819 , -3.51508969,  2.        ],\n",
              "       [-1.60991228, -2.40663816,  2.        ],\n",
              "       [-3.14313097, -0.73816104,  2.        ],\n",
              "       [-2.2401569 , -1.17546529,  2.        ],\n",
              "       [-2.84767378, -0.55604397,  2.        ],\n",
              "       [-2.59749706, -0.69796554,  2.        ],\n",
              "       [-2.94929937, -1.55530896,  2.        ],\n",
              "       [-3.53003227, -0.8825268 ,  2.        ],\n",
              "       [-2.40611054, -2.59235618,  2.        ],\n",
              "       [-2.92908473, -1.27444695,  2.        ],\n",
              "       [-2.18141278, -2.07753731,  2.        ],\n",
              "       [-2.38092779, -2.58866743,  2.        ],\n",
              "       [-3.21161722,  0.2512491 ,  2.        ],\n",
              "       [-3.67791872, -0.84774784,  2.        ],\n",
              "       [-2.4655558 , -2.1937983 ,  2.        ],\n",
              "       [-3.37052415, -2.21628914,  2.        ],\n",
              "       [-2.60195585, -1.75722935,  2.        ],\n",
              "       [-2.67783946, -2.76089913,  2.        ],\n",
              "       [-2.38701709, -2.29734668,  2.        ],\n",
              "       [-3.20875816, -2.76891957,  2.        ]])"
            ]
          },
          "metadata": {},
          "execution_count": 63
        }
      ]
    },
    {
      "cell_type": "code",
      "source": [
        "pca_n= PCA()\n",
        "x =df[['alcohol', 'malic_acid', 'ash', 'alcalinity_of_ash', 'magnesium',\n",
        "       'total_phenols', 'flavanoids', 'nonflavanoid_phenols',\n",
        "       'proanthocyanins', 'color_intensity', 'hue','proline',\n",
        "       'od280/od315_of_diluted_wines']]\n",
        "x_transformed= StandardScaler().fit_transform(x)\n",
        "s_pca= pca_n.fit_transform(x_transformed)\n",
        "c = np.cumsum(pca_n.explained_variance_ratio_)\n",
        "plt.plot (range (1,len(c)+ 1), c)\n",
        "plt.xlabel(\"Number of dimensionas\")\n",
        "plt.ylabel (\"Explatned variance\")\n",
        "plt.ylim(0,1)\n",
        "plt.savefig('students pcs variance.pdf', dpi=300)\n",
        "plt.show()\n"
      ],
      "metadata": {
        "colab": {
          "base_uri": "https://localhost:8080/",
          "height": 283
        },
        "id": "JZkHGrrl6uBB",
        "outputId": "da409e89-bfdf-4032-c4fb-da4668b1af14"
      },
      "execution_count": 62,
      "outputs": [
        {
          "output_type": "display_data",
          "data": {
            "image/png": "[encoded data removed]",
            "text/plain": [
              "<Figure size 432x288 with 1 Axes>"
            ]
          },
          "metadata": {
            "needs_background": "light"
          }
        }
      ]
    }
  ]
}