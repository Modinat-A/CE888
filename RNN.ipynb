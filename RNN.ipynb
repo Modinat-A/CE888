{
  "cells": [
    {
      "cell_type": "markdown",
      "metadata": {
        "id": "view-in-github",
        "colab_type": "text"
      },
      "source": [
        "<a href=\"https://colab.research.google.com/github/Modinat-A/CE888/blob/main/RNN.ipynb\" target=\"_parent\"><img src=\"https://colab.research.google.com/assets/colab-badge.svg\" alt=\"Open In Colab\"/></a>"
      ]
    },
    {
      "cell_type": "code",
      "execution_count": 4,
      "metadata": {
        "id": "H7SHA5hsCj4T"
      },
      "outputs": [],
      "source": [
        "# imports\n",
        "import numpy as np\n",
        "import matplotlib.pyplot as plt\n",
        "import os\n",
        "import pandas as pd\n",
        "from sklearn.model_selection import train_test_split\n",
        "\n",
        "# tensorflow imports\n",
        "from tensorflow import keras\n",
        "from keras import layers, models\n",
        "from keras.callbacks import EarlyStopping, ModelCheckpoint\n",
        "from keras.layers import Bidirectional\n",
        "from keras.layers import LSTM\n",
        "from keras.layers import Dense\n",
        "from keras.layers import TimeDistributed\n",
        "from keras.layers import Activation"
      ]
    },
    {
      "cell_type": "code",
      "execution_count": null,
      "metadata": {
        "id": "aWtyTCViN-Aq"
      },
      "outputs": [],
      "source": [
        "file=\"https://raw.githubusercontent.com/albanda/CE888/master/lab8/weather.csv\"\n",
        "df = pd.read_csv(file)"
      ]
    },
    {
      "cell_type": "code",
      "execution_count": null,
      "metadata": {
        "colab": {
          "base_uri": "https://localhost:8080/",
          "height": 419
        },
        "id": "20S0Ailw2yeo",
        "outputId": "4c62087c-63e4-4d2a-f770-cd2dd3472b96"
      },
      "outputs": [
        {
          "data": {
            "text/html": [
              "\n",
              "  <div id=\"df-9e96e6be-6411-4956-b51f-41c20bac26d2\">\n",
              "    <div class=\"colab-df-container\">\n",
              "      <div>\n",
              "<style scoped>\n",
              "    .dataframe tbody tr th:only-of-type {\n",
              "        vertical-align: middle;\n",
              "    }\n",
              "\n",
              "    .dataframe tbody tr th {\n",
              "        vertical-align: top;\n",
              "    }\n",
              "\n",
              "    .dataframe thead th {\n",
              "        text-align: right;\n",
              "    }\n",
              "</style>\n",
              "<table border=\"1\" class=\"dataframe\">\n",
              "  <thead>\n",
              "    <tr style=\"text-align: right;\">\n",
              "      <th></th>\n",
              "      <th>date</th>\n",
              "      <th>radiation_avg</th>\n",
              "      <th>precip</th>\n",
              "      <th>wind_avg</th>\n",
              "      <th>wind_max</th>\n",
              "      <th>temp_avg</th>\n",
              "      <th>humidity_avg</th>\n",
              "    </tr>\n",
              "  </thead>\n",
              "  <tbody>\n",
              "    <tr>\n",
              "      <th>0</th>\n",
              "      <td>14/05/2014 00:00</td>\n",
              "      <td>159</td>\n",
              "      <td>0.0</td>\n",
              "      <td>1.4</td>\n",
              "      <td>3.3</td>\n",
              "      <td>14.27</td>\n",
              "      <td>64.95</td>\n",
              "    </tr>\n",
              "    <tr>\n",
              "      <th>1</th>\n",
              "      <td>15/05/2014 00:00</td>\n",
              "      <td>280</td>\n",
              "      <td>0.0</td>\n",
              "      <td>0.6</td>\n",
              "      <td>2.3</td>\n",
              "      <td>13.51</td>\n",
              "      <td>72.91</td>\n",
              "    </tr>\n",
              "    <tr>\n",
              "      <th>2</th>\n",
              "      <td>16/05/2014 00:00</td>\n",
              "      <td>186</td>\n",
              "      <td>3.4</td>\n",
              "      <td>0.8</td>\n",
              "      <td>2.7</td>\n",
              "      <td>15.65</td>\n",
              "      <td>74.69</td>\n",
              "    </tr>\n",
              "    <tr>\n",
              "      <th>3</th>\n",
              "      <td>17/05/2014 00:00</td>\n",
              "      <td>221</td>\n",
              "      <td>0.0</td>\n",
              "      <td>1.0</td>\n",
              "      <td>3.3</td>\n",
              "      <td>17.46</td>\n",
              "      <td>71.42</td>\n",
              "    </tr>\n",
              "    <tr>\n",
              "      <th>4</th>\n",
              "      <td>18/05/2014 00:00</td>\n",
              "      <td>255</td>\n",
              "      <td>0.0</td>\n",
              "      <td>2.1</td>\n",
              "      <td>5.5</td>\n",
              "      <td>16.85</td>\n",
              "      <td>74.45</td>\n",
              "    </tr>\n",
              "    <tr>\n",
              "      <th>...</th>\n",
              "      <td>...</td>\n",
              "      <td>...</td>\n",
              "      <td>...</td>\n",
              "      <td>...</td>\n",
              "      <td>...</td>\n",
              "      <td>...</td>\n",
              "      <td>...</td>\n",
              "    </tr>\n",
              "    <tr>\n",
              "      <th>2551</th>\n",
              "      <td>17/05/2021 00:00</td>\n",
              "      <td>196</td>\n",
              "      <td>1.4</td>\n",
              "      <td>2.2</td>\n",
              "      <td>5.5</td>\n",
              "      <td>10.51</td>\n",
              "      <td>99.86</td>\n",
              "    </tr>\n",
              "    <tr>\n",
              "      <th>2552</th>\n",
              "      <td>17/05/2021 00:00</td>\n",
              "      <td>173</td>\n",
              "      <td>2.8</td>\n",
              "      <td>1.8</td>\n",
              "      <td>5.5</td>\n",
              "      <td>10.80</td>\n",
              "      <td>99.86</td>\n",
              "    </tr>\n",
              "    <tr>\n",
              "      <th>2553</th>\n",
              "      <td>18/05/2021 00:00</td>\n",
              "      <td>311</td>\n",
              "      <td>0.0</td>\n",
              "      <td>1.4</td>\n",
              "      <td>5.0</td>\n",
              "      <td>10.29</td>\n",
              "      <td>92.94</td>\n",
              "    </tr>\n",
              "    <tr>\n",
              "      <th>2554</th>\n",
              "      <td>19/05/2021 00:00</td>\n",
              "      <td>232</td>\n",
              "      <td>6.6</td>\n",
              "      <td>1.8</td>\n",
              "      <td>5.5</td>\n",
              "      <td>11.39</td>\n",
              "      <td>90.32</td>\n",
              "    </tr>\n",
              "    <tr>\n",
              "      <th>2555</th>\n",
              "      <td>20/05/2021 00:00</td>\n",
              "      <td>44</td>\n",
              "      <td>0.0</td>\n",
              "      <td>0.5</td>\n",
              "      <td>2.7</td>\n",
              "      <td>6.35</td>\n",
              "      <td>99.86</td>\n",
              "    </tr>\n",
              "  </tbody>\n",
              "</table>\n",
              "<p>2556 rows × 7 columns</p>\n",
              "</div>\n",
              "      <button class=\"colab-df-convert\" onclick=\"convertToInteractive('df-9e96e6be-6411-4956-b51f-41c20bac26d2')\"\n",
              "              title=\"Convert this dataframe to an interactive table.\"\n",
              "              style=\"display:none;\">\n",
              "        \n",
              "  <svg xmlns=\"http://www.w3.org/2000/svg\" height=\"24px\"viewBox=\"0 0 24 24\"\n",
              "       width=\"24px\">\n",
              "    <path d=\"M0 0h24v24H0V0z\" fill=\"none\"/>\n",
              "    <path d=\"M18.56 5.44l.94 2.06.94-2.06 2.06-.94-2.06-.94-.94-2.06-.94 2.06-2.06.94zm-11 1L8.5 8.5l.94-2.06 2.06-.94-2.06-.94L8.5 2.5l-.94 2.06-2.06.94zm10 10l.94 2.06.94-2.06 2.06-.94-2.06-.94-.94-2.06-.94 2.06-2.06.94z\"/><path d=\"M17.41 7.96l-1.37-1.37c-.4-.4-.92-.59-1.43-.59-.52 0-1.04.2-1.43.59L10.3 9.45l-7.72 7.72c-.78.78-.78 2.05 0 2.83L4 21.41c.39.39.9.59 1.41.59.51 0 1.02-.2 1.41-.59l7.78-7.78 2.81-2.81c.8-.78.8-2.07 0-2.86zM5.41 20L4 18.59l7.72-7.72 1.47 1.35L5.41 20z\"/>\n",
              "  </svg>\n",
              "      </button>\n",
              "      \n",
              "  <style>\n",
              "    .colab-df-container {\n",
              "      display:flex;\n",
              "      flex-wrap:wrap;\n",
              "      gap: 12px;\n",
              "    }\n",
              "\n",
              "    .colab-df-convert {\n",
              "      background-color: #E8F0FE;\n",
              "      border: none;\n",
              "      border-radius: 50%;\n",
              "      cursor: pointer;\n",
              "      display: none;\n",
              "      fill: #1967D2;\n",
              "      height: 32px;\n",
              "      padding: 0 0 0 0;\n",
              "      width: 32px;\n",
              "    }\n",
              "\n",
              "    .colab-df-convert:hover {\n",
              "      background-color: #E2EBFA;\n",
              "      box-shadow: 0px 1px 2px rgba(60, 64, 67, 0.3), 0px 1px 3px 1px rgba(60, 64, 67, 0.15);\n",
              "      fill: #174EA6;\n",
              "    }\n",
              "\n",
              "    [theme=dark] .colab-df-convert {\n",
              "      background-color: #3B4455;\n",
              "      fill: #D2E3FC;\n",
              "    }\n",
              "\n",
              "    [theme=dark] .colab-df-convert:hover {\n",
              "      background-color: #434B5C;\n",
              "      box-shadow: 0px 1px 3px 1px rgba(0, 0, 0, 0.15);\n",
              "      filter: drop-shadow(0px 1px 2px rgba(0, 0, 0, 0.3));\n",
              "      fill: #FFFFFF;\n",
              "    }\n",
              "  </style>\n",
              "\n",
              "      <script>\n",
              "        const buttonEl =\n",
              "          document.querySelector('#df-9e96e6be-6411-4956-b51f-41c20bac26d2 button.colab-df-convert');\n",
              "        buttonEl.style.display =\n",
              "          google.colab.kernel.accessAllowed ? 'block' : 'none';\n",
              "\n",
              "        async function convertToInteractive(key) {\n",
              "          const element = document.querySelector('#df-9e96e6be-6411-4956-b51f-41c20bac26d2');\n",
              "          const dataTable =\n",
              "            await google.colab.kernel.invokeFunction('convertToInteractive',\n",
              "                                                     [key], {});\n",
              "          if (!dataTable) return;\n",
              "\n",
              "          const docLinkHtml = 'Like what you see? Visit the ' +\n",
              "            '<a target=\"_blank\" href=https://colab.research.google.com/notebooks/data_table.ipynb>data table notebook</a>'\n",
              "            + ' to learn more about interactive tables.';\n",
              "          element.innerHTML = '';\n",
              "          dataTable['output_type'] = 'display_data';\n",
              "          await google.colab.output.renderOutput(dataTable, element);\n",
              "          const docLink = document.createElement('div');\n",
              "          docLink.innerHTML = docLinkHtml;\n",
              "          element.appendChild(docLink);\n",
              "        }\n",
              "      </script>\n",
              "    </div>\n",
              "  </div>\n",
              "  "
            ],
            "text/plain": [
              "                  date  radiation_avg  precip  wind_avg  wind_max  temp_avg  \\\n",
              "0     14/05/2014 00:00            159     0.0       1.4       3.3     14.27   \n",
              "1     15/05/2014 00:00            280     0.0       0.6       2.3     13.51   \n",
              "2     16/05/2014 00:00            186     3.4       0.8       2.7     15.65   \n",
              "3     17/05/2014 00:00            221     0.0       1.0       3.3     17.46   \n",
              "4     18/05/2014 00:00            255     0.0       2.1       5.5     16.85   \n",
              "...                ...            ...     ...       ...       ...       ...   \n",
              "2551  17/05/2021 00:00            196     1.4       2.2       5.5     10.51   \n",
              "2552  17/05/2021 00:00            173     2.8       1.8       5.5     10.80   \n",
              "2553  18/05/2021 00:00            311     0.0       1.4       5.0     10.29   \n",
              "2554  19/05/2021 00:00            232     6.6       1.8       5.5     11.39   \n",
              "2555  20/05/2021 00:00             44     0.0       0.5       2.7      6.35   \n",
              "\n",
              "      humidity_avg  \n",
              "0            64.95  \n",
              "1            72.91  \n",
              "2            74.69  \n",
              "3            71.42  \n",
              "4            74.45  \n",
              "...            ...  \n",
              "2551         99.86  \n",
              "2552         99.86  \n",
              "2553         92.94  \n",
              "2554         90.32  \n",
              "2555         99.86  \n",
              "\n",
              "[2556 rows x 7 columns]"
            ]
          },
          "execution_count": 6,
          "metadata": {},
          "output_type": "execute_result"
        }
      ],
      "source": [
        "df.drop(['temp_max', 'temp_min'], axis=1, inplace=True)\n",
        "df"
      ]
    },
    {
      "cell_type": "code",
      "execution_count": null,
      "metadata": {
        "colab": {
          "base_uri": "https://localhost:8080/",
          "height": 279
        },
        "id": "1Jg5CBhG2-RT",
        "outputId": "d88be6bc-08ea-4add-c52d-2ee631154aaf"
      },
      "outputs": [
        {
          "data": {
            "image/png": "[encoded data removed]",
            "text/plain": [
              "<Figure size 432x288 with 1 Axes>"
            ]
          },
          "metadata": {},
          "output_type": "display_data"
        }
      ],
      "source": [
        "plt.plot(range(len(df)), df['temp_avg'])\n",
        "plt.xlabel('Temporal range')\n",
        "plt.ylabel('Average temperature (C) (7 years)')\n",
        "plt.savefig('temperature_over_time.pdf', bbox_inches='tight')"
      ]
    },
    {
      "cell_type": "code",
      "execution_count": null,
      "metadata": {
        "colab": {
          "base_uri": "https://localhost:8080/",
          "height": 279
        },
        "id": "cIQh7Cut3DfK",
        "outputId": "8334ff1c-473e-42fb-dee2-f03dbab6309f"
      },
      "outputs": [
        {
          "data": {
            "image/png": "[encoded data removed]",
            "text/plain": [
              "<Figure size 432x288 with 1 Axes>"
            ]
          },
          "metadata": {},
          "output_type": "display_data"
        }
      ],
      "source": [
        "# Look at the first 2 years\n",
        "length = 2*365\n",
        "plt.plot(range(length), df['temp_avg'][:length])\n",
        "plt.xlabel('Temporal range')\n",
        "plt.ylabel('Average temperature (C) (2 years)')\n",
        "plt.savefig('temperature_over_time_2y.pdf', bbox_inches='tight')"
      ]
    },
    {
      "cell_type": "code",
      "execution_count": null,
      "metadata": {
        "colab": {
          "base_uri": "https://localhost:8080/"
        },
        "id": "dwgTg7dp3JAS",
        "outputId": "7b5596cf-23ab-40da-bdb1-1086b7ffa8a3"
      },
      "outputs": [
        {
          "name": "stdout",
          "output_type": "stream",
          "text": [
            "Samples for training: 1278; validation: 766; test: 512\n"
          ]
        }
      ],
      "source": [
        "n_tr, n_val = int(0.5*len(df)), int(0.3*len(df))\n",
        "n_te = len(df) - n_tr - n_val\n",
        "print('Samples for training: %d; validation: %d; test: %d' % (n_tr, n_val, n_te))"
      ]
    },
    {
      "cell_type": "code",
      "execution_count": null,
      "metadata": {
        "colab": {
          "base_uri": "https://localhost:8080/"
        },
        "id": "lM-CtNyo3wdx",
        "outputId": "11bbd0c9-ef63-409e-ac3a-abc33c4fce44"
      },
      "outputs": [
        {
          "name": "stdout",
          "output_type": "stream",
          "text": [
            "(2556, 6)\n"
          ]
        }
      ],
      "source": [
        "# Get the data from the dataframe (dropping date column)\n",
        "data = df.iloc[:, 1:].values\n",
        "print(data.shape)\n",
        "assert data.shape[0] == len(df)\n",
        "assert data.shape[1] == len(df.columns)-1, \"Are you sure you're dropping the date?\"\n",
        "\n",
        "# We need to normalise our time series. Calculate mean and std from TRAINING DATA ONLY. \n",
        "# We'll use it on the validation and test sets.\n",
        "mean_tr = data[:n_tr, :].mean(axis=0)\n",
        "std_tr = data[:n_tr, :].std(axis=0)\n",
        "data = (data - mean_tr) / std_tr\n",
        "\n",
        "\n",
        "y = df['temp_avg'].values.reshape(-1, 1)\n",
        "\n",
        "# index of the column that contains the avg_temp\n",
        "y_idx = 4"
      ]
    },
    {
      "cell_type": "code",
      "execution_count": null,
      "metadata": {
        "colab": {
          "base_uri": "https://localhost:8080/"
        },
        "id": "BEaYsuDT4JVo",
        "outputId": "0ce01176-fdb3-414f-d67e-6b8ec5c44e76"
      },
      "outputs": [
        {
          "data": {
            "text/plain": [
              "array([14.27, 13.51, 15.65, 17.46, 16.85, 18.26, 17.35, 15.55, 14.52,\n",
              "       13.93, 11.48, 13.63, 12.81, 12.4 , 13.67, 14.15, 13.22, 12.21,\n",
              "       15.53, 14.52])"
            ]
          },
          "execution_count": 15,
          "metadata": {},
          "output_type": "execute_result"
        }
      ],
      "source": [
        "data[:20, y_idx]  * std_tr[y_idx] + mean_tr[y_idx]"
      ]
    },
    {
      "cell_type": "code",
      "execution_count": null,
      "metadata": {
        "colab": {
          "base_uri": "https://localhost:8080/"
        },
        "id": "2WAJ7wcQ4aUn",
        "outputId": "68c05b42-5851-48f6-fc54-c1d4bcdef6e2"
      },
      "outputs": [
        {
          "data": {
            "text/plain": [
              "array([[18.26],\n",
              "       [17.35],\n",
              "       [15.55],\n",
              "       [14.52],\n",
              "       [13.93],\n",
              "       [11.48],\n",
              "       [13.63],\n",
              "       [12.81],\n",
              "       [12.4 ],\n",
              "       [13.67],\n",
              "       [14.15],\n",
              "       [13.22],\n",
              "       [12.21],\n",
              "       [15.53],\n",
              "       [14.52],\n",
              "       [15.35],\n",
              "       [12.29],\n",
              "       [13.88],\n",
              "       [15.13],\n",
              "       [17.29]])"
            ]
          },
          "execution_count": 16,
          "metadata": {},
          "output_type": "execute_result"
        }
      ],
      "source": [
        "y[5:25]"
      ]
    },
    {
      "cell_type": "code",
      "execution_count": null,
      "metadata": {
        "id": "VkXHVWiA4dWT"
      },
      "outputs": [],
      "source": [
        "# We'll use a Dataset from keras to pass our data\n",
        "sampling_rate = 1  # we keep all data points\n",
        "sequence_length = 14  # 2 weeks to predict tomorrow's temperature\n",
        "delay = sampling_rate * sequence_length  # the target is the day after the end of the sequence\n",
        "batch_size = 16"
      ]
    },
    {
      "cell_type": "code",
      "execution_count": null,
      "metadata": {
        "colab": {
          "base_uri": "https://localhost:8080/"
        },
        "id": "IFjNVBdJ4jpw",
        "outputId": "e8e4303c-8d18-43c1-f24c-6899d60c2fac"
      },
      "outputs": [
        {
          "name": "stdout",
          "output_type": "stream",
          "text": [
            "X shape: (16, 14, 6)\n",
            "target shape: (16, 1)\n"
          ]
        }
      ],
      "source": [
        "train_dataset = keras.utils.timeseries_dataset_from_array(\n",
        "    data[:-delay],\n",
        "    targets=y[delay:],\n",
        "    sampling_rate=sampling_rate, sequence_length=sequence_length,\n",
        "    batch_size=batch_size,\n",
        "    start_index=0, end_index=n_tr  # first 50% for training\n",
        "    )\n",
        "\n",
        "val_dataset = keras.utils.timeseries_dataset_from_array(\n",
        "    data[:-delay],\n",
        "    targets=y[delay:],\n",
        "    sampling_rate=sampling_rate, sequence_length=sequence_length,\n",
        "    batch_size=batch_size,\n",
        "    start_index=n_tr, end_index=n_tr+n_val  # 50%-80% for validation\n",
        "    )\n",
        "\n",
        "test_dataset = keras.utils.timeseries_dataset_from_array(\n",
        "    data[:-delay],\n",
        "    targets=y[delay:],\n",
        "    sampling_rate=sampling_rate, sequence_length=sequence_length,\n",
        "    batch_size=batch_size,\n",
        "    start_index=n_tr+n_val  # last 20% for test\n",
        "    )\n",
        "\n",
        "for X, target in train_dataset:\n",
        "    print(\"X shape:\", X.shape)\n",
        "    print(\"target shape:\", target.shape)\n",
        "    #print(X[:, :, y_idx] * std_tr[y_idx] + mean_tr[y_idx])\n",
        "    #print(target)\n",
        "    break  # so we only print once"
      ]
    },
    {
      "cell_type": "code",
      "execution_count": null,
      "metadata": {
        "id": "6PyKbfFL4nVZ"
      },
      "outputs": [],
      "source": [
        "# Function to plot history with neural networks\n",
        "def plot_hist_regression(hist, y):\n",
        "  n_ = len(hist.history['mae'])\n",
        "  plt.plot(range(1, n_+1), np.asarray(hist.history['mae']), 'bo', label='MAE on training set')\n",
        "  plt.plot(range(1, n_+1), np.asarray(hist.history['val_mae']), 'b', label='MAE on validation set')\n",
        "  plt.legend()\n",
        "  plt.xlabel(\"Epoch\") \n",
        "  plt.ylabel(\"MAE (degrees)\")\n",
        "  plt.axhline(y=y)\n",
        "  plt.show()"
      ]
    },
    {
      "cell_type": "markdown",
      "metadata": {
        "id": "J7fcU0Xk4t82"
      },
      "source": [
        "## Establishing a baseline"
      ]
    },
    {
      "cell_type": "code",
      "execution_count": null,
      "metadata": {
        "colab": {
          "base_uri": "https://localhost:8080/"
        },
        "id": "ISlJt6Sk4uw8",
        "outputId": "d38e1d9d-6b43-4630-b27b-b0ac35d119e3"
      },
      "outputs": [
        {
          "name": "stdout",
          "output_type": "stream",
          "text": [
            "MAE on train set = 2.56 (degrees Celsius)\n",
            "MAE on validation set = 2.69 (degrees Celsius)\n",
            "MAE on test set = 2.85 (degrees Celsius)\n"
          ]
        }
      ],
      "source": [
        "def naive_method(dataset, mean, std):\n",
        "    error = 0\n",
        "    samples = 0\n",
        "    count = 0\n",
        "    for X, target in dataset:\n",
        "        pred = X[:, -1, y_idx] * std + mean  # predict last available temperature and un-standardise\n",
        "        #print(X.shape, target.shape, pred.shape)  # [batch_size, sequence_length, n_feats]\n",
        "        #print(X[:, -1, y_idx] * std + mean, target)\n",
        "        error += np.sum(np.abs(pred - target))\n",
        "        samples += X.shape[0]  # batch_size\n",
        "        count += 1\n",
        "    return error / samples / batch_size # average\n",
        "\n",
        "\n",
        "print('MAE on train set = %.2f (degrees Celsius)' % naive_method(train_dataset, mean_tr[y_idx], std_tr[y_idx]))\n",
        "print('MAE on validation set = %.2f (degrees Celsius)' % naive_method(val_dataset, mean_tr[y_idx], std_tr[y_idx]))\n",
        "print('MAE on test set = %.2f (degrees Celsius)' % naive_method(test_dataset, mean_tr[y_idx], std_tr[y_idx]))\n",
        "# Save MAE on validation for later\n",
        "baseline = naive_method(val_dataset, mean_tr[y_idx], std_tr[y_idx])"
      ]
    },
    {
      "cell_type": "code",
      "execution_count": null,
      "metadata": {
        "colab": {
          "base_uri": "https://localhost:8080/"
        },
        "id": "H2ioNc2K43qR",
        "outputId": "339e7f10-ad4b-4f9a-f2ae-f1ee8deb195f"
      },
      "outputs": [
        {
          "name": "stdout",
          "output_type": "stream",
          "text": [
            "Model: \"sequential\"\n",
            "_________________________________________________________________\n",
            " Layer (type)                Output Shape              Param #   \n",
            "=================================================================\n",
            " flatten (Flatten)           (None, 84)                0         \n",
            "                                                                 \n",
            " dense (Dense)               (None, 10)                850       \n",
            "                                                                 \n",
            " dense_1 (Dense)             (None, 1)                 11        \n",
            "                                                                 \n",
            "=================================================================\n",
            "Total params: 861\n",
            "Trainable params: 861\n",
            "Non-trainable params: 0\n",
            "_________________________________________________________________\n"
          ]
        }
      ],
      "source": [
        "# To get some practice with neural networks, we'll try a 1-layer NN with nothing fancy.\n",
        "\n",
        "model_dense = models.Sequential()\n",
        "model_dense.add(layers.Flatten(input_shape=(sequence_length, len(df.columns)-1)))  # we need to specify the input shape or we won't be able to see the summary\n",
        "model_dense.add(layers.Dense(10, activation='relu'))\n",
        "model_dense.add(layers.Dense(1))\n",
        "\n",
        "model_dense.summary()"
      ]
    },
    {
      "cell_type": "code",
      "execution_count": null,
      "metadata": {
        "colab": {
          "base_uri": "https://localhost:8080/"
        },
        "id": "waBBL4M-462c",
        "outputId": "b5886188-0ccd-46d6-bc02-cc5951836c7b"
      },
      "outputs": [
        {
          "name": "stdout",
          "output_type": "stream",
          "text": [
            "Epoch 1/20\n",
            "80/80 [==============================] - 2s 11ms/step - loss: 135.3578 - mae: 10.7551 - val_loss: 116.1266 - val_mae: 9.7935\n",
            "Epoch 2/20\n",
            "80/80 [==============================] - 1s 7ms/step - loss: 98.8001 - mae: 9.0985 - val_loss: 80.6110 - val_mae: 8.0712\n",
            "Epoch 3/20\n",
            "80/80 [==============================] - 1s 9ms/step - loss: 66.6964 - mae: 7.3163 - val_loss: 53.6344 - val_mae: 6.3578\n",
            "Epoch 4/20\n",
            "80/80 [==============================] - 1s 7ms/step - loss: 46.1210 - mae: 5.8523 - val_loss: 39.0521 - val_mae: 5.1430\n",
            "Epoch 5/20\n",
            "80/80 [==============================] - 1s 9ms/step - loss: 36.9793 - mae: 5.0801 - val_loss: 33.1527 - val_mae: 4.6670\n",
            "Epoch 6/20\n",
            "80/80 [==============================] - 1s 9ms/step - loss: 33.0644 - mae: 4.7580 - val_loss: 30.9519 - val_mae: 4.4929\n",
            "Epoch 7/20\n",
            "80/80 [==============================] - 1s 7ms/step - loss: 30.5441 - mae: 4.5587 - val_loss: 29.6293 - val_mae: 4.3848\n",
            "Epoch 8/20\n",
            "80/80 [==============================] - 1s 9ms/step - loss: 28.4494 - mae: 4.3968 - val_loss: 28.4991 - val_mae: 4.2912\n",
            "Epoch 9/20\n",
            "80/80 [==============================] - 1s 7ms/step - loss: 26.6507 - mae: 4.2534 - val_loss: 27.4552 - val_mae: 4.2066\n",
            "Epoch 10/20\n",
            "80/80 [==============================] - 1s 9ms/step - loss: 25.0088 - mae: 4.1203 - val_loss: 26.3535 - val_mae: 4.1183\n",
            "Epoch 11/20\n",
            "80/80 [==============================] - 1s 8ms/step - loss: 23.4938 - mae: 3.9935 - val_loss: 25.1667 - val_mae: 4.0224\n",
            "Epoch 12/20\n",
            "80/80 [==============================] - 1s 16ms/step - loss: 22.0694 - mae: 3.8691 - val_loss: 23.8929 - val_mae: 3.9194\n",
            "Epoch 13/20\n",
            "80/80 [==============================] - 1s 12ms/step - loss: 20.6832 - mae: 3.7424 - val_loss: 22.5604 - val_mae: 3.8078\n",
            "Epoch 14/20\n",
            "80/80 [==============================] - 1s 15ms/step - loss: 19.3507 - mae: 3.6162 - val_loss: 21.2338 - val_mae: 3.6913\n",
            "Epoch 15/20\n",
            "80/80 [==============================] - 2s 20ms/step - loss: 18.0744 - mae: 3.4921 - val_loss: 19.9225 - val_mae: 3.5719\n",
            "Epoch 16/20\n",
            "80/80 [==============================] - 1s 17ms/step - loss: 16.8552 - mae: 3.3690 - val_loss: 18.6634 - val_mae: 3.4560\n",
            "Epoch 17/20\n",
            "80/80 [==============================] - 1s 12ms/step - loss: 15.7279 - mae: 3.2509 - val_loss: 17.5331 - val_mae: 3.3506\n",
            "Epoch 18/20\n",
            "80/80 [==============================] - 1s 16ms/step - loss: 14.7149 - mae: 3.1379 - val_loss: 16.5299 - val_mae: 3.2550\n",
            "Epoch 19/20\n",
            "80/80 [==============================] - 1s 7ms/step - loss: 13.7921 - mae: 3.0302 - val_loss: 15.6289 - val_mae: 3.1691\n",
            "Epoch 20/20\n",
            "80/80 [==============================] - 1s 9ms/step - loss: 12.9776 - mae: 2.9348 - val_loss: 14.8778 - val_mae: 3.0959\n"
          ]
        }
      ],
      "source": [
        "n_epochs = 20\n",
        "\n",
        "model_dense.compile(optimizer='rmsprop', loss='mse', metrics=['mae'])\n",
        "history_dense = model_dense.fit(train_dataset, epochs=n_epochs, validation_data=val_dataset)"
      ]
    },
    {
      "cell_type": "code",
      "execution_count": null,
      "metadata": {
        "colab": {
          "base_uri": "https://localhost:8080/",
          "height": 280
        },
        "id": "RNbmNPpA4-t1",
        "outputId": "18d96d4a-2e50-4314-bbd9-e74773a11cb0"
      },
      "outputs": [
        {
          "data": {
            "image/png": "[encoded data removed]",
            "text/plain": [
              "<Figure size 432x288 with 1 Axes>"
            ]
          },
          "metadata": {},
          "output_type": "display_data"
        }
      ],
      "source": [
        "# Plot MAE cures for validation and training\n",
        "plot_hist_regression(history_dense, baseline)"
      ]
    },
    {
      "cell_type": "code",
      "execution_count": null,
      "metadata": {
        "colab": {
          "base_uri": "https://localhost:8080/"
        },
        "id": "_AdCN0R75Jek",
        "outputId": "2f61913f-b193-4f5c-acf2-86d6bfdae61b"
      },
      "outputs": [
        {
          "name": "stdout",
          "output_type": "stream",
          "text": [
            "Model: \"sequential_1\"\n",
            "_________________________________________________________________\n",
            " Layer (type)                Output Shape              Param #   \n",
            "=================================================================\n",
            " conv1d (Conv1D)             (None, 8, 8)              344       \n",
            "                                                                 \n",
            " max_pooling1d (MaxPooling1D  (None, 4, 8)             0         \n",
            " )                                                               \n",
            "                                                                 \n",
            " conv1d_1 (Conv1D)           (None, 2, 8)              200       \n",
            "                                                                 \n",
            " max_pooling1d_1 (MaxPooling  (None, 1, 8)             0         \n",
            " 1D)                                                             \n",
            "                                                                 \n",
            " global_average_pooling1d (G  (None, 8)                0         \n",
            " lobalAveragePooling1D)                                          \n",
            "                                                                 \n",
            " dense_2 (Dense)             (None, 1)                 9         \n",
            "                                                                 \n",
            "=================================================================\n",
            "Total params: 553\n",
            "Trainable params: 553\n",
            "Non-trainable params: 0\n",
            "_________________________________________________________________\n"
          ]
        }
      ],
      "source": [
        "# We know that CNNs take advantage of neighbouring values, so why don't we try that?\n",
        "\n",
        "# In addition to the Conv2D layers we saw last week, there are Conv1D and Conv3D layers. \n",
        "# Conv1D layers rely on 1D windows that slide across an input sequence (imagine a 1D image)\n",
        "\n",
        "model_cnn = models.Sequential()\n",
        "model_cnn.add(layers.Conv1D(8, 7, activation='relu', input_shape=(sequence_length, len(df.columns)-1)))\n",
        "model_cnn.add(layers.MaxPooling1D(2))\n",
        "model_cnn.add(layers.Conv1D(8, 3, activation='relu'))\n",
        "model_cnn.add(layers.MaxPooling1D(2))\n",
        "model_cnn.add(layers.GlobalAveragePooling1D())\n",
        "model_cnn.add(layers.Dense(1))\n",
        "\n",
        "model_cnn.summary()"
      ]
    },
    {
      "cell_type": "code",
      "execution_count": null,
      "metadata": {
        "colab": {
          "base_uri": "https://localhost:8080/"
        },
        "id": "W1SI7PHw5Qha",
        "outputId": "59df8309-7735-47e8-c313-ff66cb3dcb71"
      },
      "outputs": [
        {
          "name": "stdout",
          "output_type": "stream",
          "text": [
            "Epoch 1/20\n",
            "80/80 [==============================] - 2s 11ms/step - loss: 129.0558 - mae: 10.0513 - val_loss: 110.8153 - val_mae: 8.9310\n",
            "Epoch 2/20\n",
            "80/80 [==============================] - 1s 9ms/step - loss: 83.6872 - mae: 7.8988 - val_loss: 65.0987 - val_mae: 6.7465\n",
            "Epoch 3/20\n",
            "80/80 [==============================] - 1s 9ms/step - loss: 34.3769 - mae: 4.8972 - val_loss: 27.5944 - val_mae: 3.9777\n",
            "Epoch 4/20\n",
            "80/80 [==============================] - 1s 7ms/step - loss: 17.3937 - mae: 3.3198 - val_loss: 22.1514 - val_mae: 3.3090\n",
            "Epoch 5/20\n",
            "80/80 [==============================] - 1s 8ms/step - loss: 15.3525 - mae: 3.0906 - val_loss: 21.2424 - val_mae: 3.2044\n",
            "Epoch 6/20\n",
            "80/80 [==============================] - 1s 9ms/step - loss: 14.1973 - mae: 2.9847 - val_loss: 20.5388 - val_mae: 3.1426\n",
            "Epoch 7/20\n",
            "80/80 [==============================] - 1s 7ms/step - loss: 13.3091 - mae: 2.9029 - val_loss: 19.8556 - val_mae: 3.0977\n",
            "Epoch 8/20\n",
            "80/80 [==============================] - 1s 7ms/step - loss: 12.6238 - mae: 2.8385 - val_loss: 19.2784 - val_mae: 3.0632\n",
            "Epoch 9/20\n",
            "80/80 [==============================] - 1s 9ms/step - loss: 12.0833 - mae: 2.7853 - val_loss: 18.6828 - val_mae: 3.0292\n",
            "Epoch 10/20\n",
            "80/80 [==============================] - 1s 9ms/step - loss: 11.6269 - mae: 2.7379 - val_loss: 18.1479 - val_mae: 2.9984\n",
            "Epoch 11/20\n",
            "80/80 [==============================] - 1s 7ms/step - loss: 11.2512 - mae: 2.6958 - val_loss: 17.6341 - val_mae: 2.9692\n",
            "Epoch 12/20\n",
            "80/80 [==============================] - 1s 8ms/step - loss: 10.9448 - mae: 2.6607 - val_loss: 17.1864 - val_mae: 2.9438\n",
            "Epoch 13/20\n",
            "80/80 [==============================] - 1s 7ms/step - loss: 10.6954 - mae: 2.6315 - val_loss: 16.7369 - val_mae: 2.9183\n",
            "Epoch 14/20\n",
            "80/80 [==============================] - 1s 9ms/step - loss: 10.4641 - mae: 2.6044 - val_loss: 16.3305 - val_mae: 2.8954\n",
            "Epoch 15/20\n",
            "80/80 [==============================] - 1s 7ms/step - loss: 10.2476 - mae: 2.5776 - val_loss: 15.9854 - val_mae: 2.8743\n",
            "Epoch 16/20\n",
            "80/80 [==============================] - 1s 9ms/step - loss: 10.0489 - mae: 2.5524 - val_loss: 15.6385 - val_mae: 2.8525\n",
            "Epoch 17/20\n",
            "80/80 [==============================] - 1s 10ms/step - loss: 9.8727 - mae: 2.5297 - val_loss: 15.3736 - val_mae: 2.8347\n",
            "Epoch 18/20\n",
            "80/80 [==============================] - 1s 10ms/step - loss: 9.7099 - mae: 2.5083 - val_loss: 15.0851 - val_mae: 2.8158\n",
            "Epoch 19/20\n",
            "80/80 [==============================] - 1s 12ms/step - loss: 9.5592 - mae: 2.4879 - val_loss: 14.8139 - val_mae: 2.7972\n",
            "Epoch 20/20\n",
            "80/80 [==============================] - 1s 10ms/step - loss: 9.4166 - mae: 2.4683 - val_loss: 14.5619 - val_mae: 2.7786\n"
          ]
        }
      ],
      "source": [
        "model_cnn.compile(optimizer='rmsprop', loss='mse', metrics=['mae'])\n",
        "history_cnn = model_cnn.fit(train_dataset, epochs=n_epochs,\n",
        "                            validation_data=val_dataset)"
      ]
    },
    {
      "cell_type": "code",
      "execution_count": null,
      "metadata": {
        "colab": {
          "base_uri": "https://localhost:8080/",
          "height": 279
        },
        "id": "4HMS81Tb5Ylz",
        "outputId": "c89653f9-1f87-498a-a07b-0c27a0233313"
      },
      "outputs": [
        {
          "data": {
            "image/png": "[encoded data removed]",
            "text/plain": [
              "<Figure size 432x288 with 1 Axes>"
            ]
          },
          "metadata": {},
          "output_type": "display_data"
        }
      ],
      "source": [
        "# Plot MAE cures for validation and training\n",
        "plot_hist_regression(history_cnn, baseline)"
      ]
    },
    {
      "cell_type": "markdown",
      "metadata": {
        "id": "WB_q3xpH5e22"
      },
      "source": [
        "## Long Short Term Memory (LSTM) Neural Networks"
      ]
    },
    {
      "cell_type": "code",
      "execution_count": null,
      "metadata": {
        "colab": {
          "base_uri": "https://localhost:8080/"
        },
        "id": "z68aqHHU5d-m",
        "outputId": "14b1bbf6-ef58-497a-c064-3c82de6d8518"
      },
      "outputs": [
        {
          "name": "stdout",
          "output_type": "stream",
          "text": [
            "Model: \"sequential_2\"\n",
            "_________________________________________________________________\n",
            " Layer (type)                Output Shape              Param #   \n",
            "=================================================================\n",
            " lstm (LSTM)                 (None, 20)                2160      \n",
            "                                                                 \n",
            " dense_3 (Dense)             (None, 1)                 21        \n",
            "                                                                 \n",
            "=================================================================\n",
            "Total params: 2,181\n",
            "Trainable params: 2,181\n",
            "Non-trainable params: 0\n",
            "_________________________________________________________________\n"
          ]
        }
      ],
      "source": [
        "# 1-layer LSTM\n",
        "\n",
        "model_lstm1 = models.Sequential()\n",
        "model_lstm1.add(layers.LSTM(20, input_shape=(sequence_length, len(df.columns)-1)))\n",
        "model_lstm1.add(layers.Dense(1))\n",
        "\n",
        "model_lstm1.summary()"
      ]
    },
    {
      "cell_type": "code",
      "execution_count": null,
      "metadata": {
        "id": "lU1GWmAj5l6Z"
      },
      "outputs": [],
      "source": [
        "n_epochs = 20"
      ]
    },
    {
      "cell_type": "code",
      "execution_count": null,
      "metadata": {
        "colab": {
          "base_uri": "https://localhost:8080/"
        },
        "id": "q8lmuszV5lgA",
        "outputId": "64ffdb6b-3621-4325-c828-8634ace1411b"
      },
      "outputs": [
        {
          "name": "stdout",
          "output_type": "stream",
          "text": [
            "Epoch 1/20\n",
            "80/80 [==============================] - 4s 20ms/step - loss: 138.9194 - mae: 10.6168 - val_loss: 119.5106 - val_mae: 9.6367\n",
            "Epoch 2/20\n",
            "80/80 [==============================] - 1s 13ms/step - loss: 96.1382 - mae: 8.5667 - val_loss: 68.7913 - val_mae: 6.7824\n",
            "Epoch 3/20\n",
            "80/80 [==============================] - 2s 20ms/step - loss: 56.7449 - mae: 6.2580 - val_loss: 46.4770 - val_mae: 5.3639\n",
            "Epoch 4/20\n",
            "80/80 [==============================] - 1s 13ms/step - loss: 40.3545 - mae: 5.1999 - val_loss: 36.0629 - val_mae: 4.7318\n",
            "Epoch 5/20\n",
            "80/80 [==============================] - 1s 14ms/step - loss: 30.9321 - mae: 4.5101 - val_loss: 29.1956 - val_mae: 4.2747\n",
            "Epoch 6/20\n",
            "80/80 [==============================] - 1s 13ms/step - loss: 24.8179 - mae: 4.0359 - val_loss: 24.3165 - val_mae: 3.9187\n",
            "Epoch 7/20\n",
            "80/80 [==============================] - 1s 15ms/step - loss: 20.5401 - mae: 3.6737 - val_loss: 20.7145 - val_mae: 3.6231\n",
            "Epoch 8/20\n",
            "80/80 [==============================] - 1s 14ms/step - loss: 17.4039 - mae: 3.3873 - val_loss: 17.9667 - val_mae: 3.3745\n",
            "Epoch 9/20\n",
            "80/80 [==============================] - 1s 14ms/step - loss: 14.9472 - mae: 3.1255 - val_loss: 15.8865 - val_mae: 3.1705\n",
            "Epoch 10/20\n",
            "80/80 [==============================] - 1s 13ms/step - loss: 12.7584 - mae: 2.8649 - val_loss: 14.2114 - val_mae: 3.0097\n",
            "Epoch 11/20\n",
            "80/80 [==============================] - 1s 13ms/step - loss: 11.0848 - mae: 2.6647 - val_loss: 12.8220 - val_mae: 2.8664\n",
            "Epoch 12/20\n",
            "80/80 [==============================] - 1s 14ms/step - loss: 9.8481 - mae: 2.5056 - val_loss: 11.7081 - val_mae: 2.7425\n",
            "Epoch 13/20\n",
            "80/80 [==============================] - 1s 12ms/step - loss: 8.9172 - mae: 2.3815 - val_loss: 10.7984 - val_mae: 2.6335\n",
            "Epoch 14/20\n",
            "80/80 [==============================] - 1s 14ms/step - loss: 8.1972 - mae: 2.2820 - val_loss: 10.0508 - val_mae: 2.5456\n",
            "Epoch 15/20\n",
            "80/80 [==============================] - 1s 13ms/step - loss: 7.6500 - mae: 2.2064 - val_loss: 9.4494 - val_mae: 2.4725\n",
            "Epoch 16/20\n",
            "80/80 [==============================] - 1s 13ms/step - loss: 7.2415 - mae: 2.1501 - val_loss: 8.9775 - val_mae: 2.4173\n",
            "Epoch 17/20\n",
            "80/80 [==============================] - 1s 15ms/step - loss: 6.9210 - mae: 2.1048 - val_loss: 8.6004 - val_mae: 2.3722\n",
            "Epoch 18/20\n",
            "80/80 [==============================] - 1s 13ms/step - loss: 6.6577 - mae: 2.0660 - val_loss: 8.2941 - val_mae: 2.3315\n",
            "Epoch 19/20\n",
            "80/80 [==============================] - 1s 14ms/step - loss: 6.4325 - mae: 2.0330 - val_loss: 8.0348 - val_mae: 2.2950\n",
            "Epoch 20/20\n",
            "80/80 [==============================] - 1s 14ms/step - loss: 6.2335 - mae: 2.0017 - val_loss: 7.8069 - val_mae: 2.2620\n"
          ]
        }
      ],
      "source": [
        "model_lstm1.compile(optimizer='rmsprop', loss='mse', metrics=['mae'])\n",
        "history_lstm1 = model_lstm1.fit(train_dataset, epochs=n_epochs,\n",
        "                            validation_data=val_dataset)"
      ]
    },
    {
      "cell_type": "code",
      "execution_count": null,
      "metadata": {
        "colab": {
          "base_uri": "https://localhost:8080/",
          "height": 279
        },
        "id": "T4Tu-rtD9oL2",
        "outputId": "bf154868-44a6-4702-d290-8e2fa6cb4dae"
      },
      "outputs": [
        {
          "data": {
            "image/png": "[encoded data removed]",
            "text/plain": [
              "<Figure size 432x288 with 1 Axes>"
            ]
          },
          "metadata": {},
          "output_type": "display_data"
        }
      ],
      "source": [
        "# Plot MAE cures for validation and training\n",
        "plot_hist_regression(history_lstm1, baseline)"
      ]
    },
    {
      "cell_type": "code",
      "execution_count": null,
      "metadata": {
        "colab": {
          "base_uri": "https://localhost:8080/"
        },
        "id": "jAONR-069lkR",
        "outputId": "8488aac1-bf31-4b66-8d62-34e26ff45643"
      },
      "outputs": [
        {
          "name": "stdout",
          "output_type": "stream",
          "text": [
            "31/31 [==============================] - 0s 5ms/step - loss: 9.1005 - mae: 2.4104\n",
            "Test MAE = 2.41 degrees\n"
          ]
        }
      ],
      "source": [
        "print('Test MAE = %.2f degrees' % model_lstm1.evaluate(test_dataset)[1])"
      ]
    },
    {
      "cell_type": "code",
      "execution_count": null,
      "metadata": {
        "colab": {
          "base_uri": "https://localhost:8080/"
        },
        "id": "z7xKcU_K9s-u",
        "outputId": "755d0165-afd8-4ceb-e95d-6c352099ab11"
      },
      "outputs": [
        {
          "name": "stdout",
          "output_type": "stream",
          "text": [
            "Model: \"sequential_3\"\n",
            "_________________________________________________________________\n",
            " Layer (type)                Output Shape              Param #   \n",
            "=================================================================\n",
            " lstm_1 (LSTM)               (None, 20)                2160      \n",
            "                                                                 \n",
            " dropout (Dropout)           (None, 20)                0         \n",
            "                                                                 \n",
            " dense_4 (Dense)             (None, 1)                 21        \n",
            "                                                                 \n",
            "=================================================================\n",
            "Total params: 2,181\n",
            "Trainable params: 2,181\n",
            "Non-trainable params: 0\n",
            "_________________________________________________________________\n"
          ]
        }
      ],
      "source": [
        "# Adding dropout\n",
        "\n",
        "model_lstm2 = models.Sequential()\n",
        "model_lstm2.add(layers.LSTM(20, input_shape=(sequence_length, len(df.columns)-1), recurrent_dropout=0.25))\n",
        "model_lstm2.add(layers.Dropout(0.4))\n",
        "model_lstm2.add(layers.Dense(1))\n",
        "\n",
        "model_lstm2.summary()"
      ]
    },
    {
      "cell_type": "code",
      "execution_count": null,
      "metadata": {
        "colab": {
          "base_uri": "https://localhost:8080/"
        },
        "id": "r25WNMcv9zbp",
        "outputId": "df1b4cf8-d000-466d-c54f-0352301cf8a3"
      },
      "outputs": [
        {
          "name": "stdout",
          "output_type": "stream",
          "text": [
            "Epoch 1/20\n",
            "80/80 [==============================] - 4s 23ms/step - loss: 133.4087 - mae: 10.5180 - val_loss: 108.1754 - val_mae: 9.3336\n",
            "Epoch 2/20\n",
            "80/80 [==============================] - 2s 20ms/step - loss: 86.5144 - mae: 8.2369 - val_loss: 58.2280 - val_mae: 6.3038\n",
            "Epoch 3/20\n",
            "80/80 [==============================] - 2s 19ms/step - loss: 49.4975 - mae: 5.8573 - val_loss: 38.6358 - val_mae: 4.8878\n",
            "Epoch 4/20\n",
            "80/80 [==============================] - 2s 19ms/step - loss: 37.0006 - mae: 4.9479 - val_loss: 30.5314 - val_mae: 4.3659\n",
            "Epoch 5/20\n",
            "80/80 [==============================] - 2s 19ms/step - loss: 29.1023 - mae: 4.3515 - val_loss: 25.2326 - val_mae: 3.9862\n",
            "Epoch 6/20\n",
            "80/80 [==============================] - 2s 19ms/step - loss: 24.9216 - mae: 3.9769 - val_loss: 21.1573 - val_mae: 3.6506\n",
            "Epoch 7/20\n",
            "80/80 [==============================] - 3s 34ms/step - loss: 22.3278 - mae: 3.7678 - val_loss: 18.3859 - val_mae: 3.4124\n",
            "Epoch 8/20\n",
            "80/80 [==============================] - 2s 20ms/step - loss: 20.2178 - mae: 3.5778 - val_loss: 15.5426 - val_mae: 3.1196\n",
            "Epoch 9/20\n",
            "80/80 [==============================] - 2s 20ms/step - loss: 15.6433 - mae: 3.1794 - val_loss: 13.6885 - val_mae: 2.9350\n",
            "Epoch 10/20\n",
            "80/80 [==============================] - 2s 27ms/step - loss: 15.1009 - mae: 3.0467 - val_loss: 12.0785 - val_mae: 2.7542\n",
            "Epoch 11/20\n",
            "80/80 [==============================] - 3s 32ms/step - loss: 14.1582 - mae: 2.9731 - val_loss: 10.8507 - val_mae: 2.6128\n",
            "Epoch 12/20\n",
            "80/80 [==============================] - 2s 20ms/step - loss: 13.8014 - mae: 2.9564 - val_loss: 9.9597 - val_mae: 2.5063\n",
            "Epoch 13/20\n",
            "80/80 [==============================] - 2s 19ms/step - loss: 12.5738 - mae: 2.7953 - val_loss: 9.1166 - val_mae: 2.3913\n",
            "Epoch 14/20\n",
            "80/80 [==============================] - 2s 25ms/step - loss: 11.6157 - mae: 2.7071 - val_loss: 8.7597 - val_mae: 2.3577\n",
            "Epoch 15/20\n",
            "80/80 [==============================] - 3s 33ms/step - loss: 12.0852 - mae: 2.7246 - val_loss: 8.3444 - val_mae: 2.3082\n",
            "Epoch 16/20\n",
            "80/80 [==============================] - 2s 20ms/step - loss: 10.7755 - mae: 2.5932 - val_loss: 7.8032 - val_mae: 2.2201\n",
            "Epoch 17/20\n",
            "80/80 [==============================] - 2s 20ms/step - loss: 10.5627 - mae: 2.5759 - val_loss: 7.6652 - val_mae: 2.2160\n",
            "Epoch 18/20\n",
            "80/80 [==============================] - 2s 20ms/step - loss: 10.9130 - mae: 2.6134 - val_loss: 7.5051 - val_mae: 2.1963\n",
            "Epoch 19/20\n",
            "80/80 [==============================] - 2s 26ms/step - loss: 10.4491 - mae: 2.5592 - val_loss: 7.2042 - val_mae: 2.1556\n",
            "Epoch 20/20\n",
            "80/80 [==============================] - 3s 32ms/step - loss: 10.8296 - mae: 2.6165 - val_loss: 6.8772 - val_mae: 2.0980\n"
          ]
        }
      ],
      "source": [
        "model_lstm2.compile(optimizer='rmsprop', loss='mse', metrics=['mae'])\n",
        "history_lstm2 = model_lstm2.fit(train_dataset, epochs=n_epochs,\n",
        "                            validation_data=val_dataset)"
      ]
    },
    {
      "cell_type": "code",
      "execution_count": null,
      "metadata": {
        "colab": {
          "base_uri": "https://localhost:8080/",
          "height": 279
        },
        "id": "ThGSOhni94l9",
        "outputId": "68fc8709-913f-462a-8532-3a833eed723b"
      },
      "outputs": [
        {
          "data": {
            "image/png": "[encoded data removed]",
            "text/plain": [
              "<Figure size 432x288 with 1 Axes>"
            ]
          },
          "metadata": {},
          "output_type": "display_data"
        }
      ],
      "source": [
        "# Plot MAE cures for validation and training\n",
        "plot_hist_regression(history_lstm2, baseline)"
      ]
    },
    {
      "cell_type": "code",
      "execution_count": null,
      "metadata": {
        "colab": {
          "base_uri": "https://localhost:8080/"
        },
        "id": "Z_JrWvdO97TH",
        "outputId": "8320c4a3-07b4-47c1-a797-b42519f6f502"
      },
      "outputs": [
        {
          "name": "stdout",
          "output_type": "stream",
          "text": [
            "31/31 [==============================] - 1s 9ms/step - loss: 7.4937 - mae: 2.1373\n",
            "Test MAE = 2.14 degrees\n"
          ]
        }
      ],
      "source": [
        "print('Test MAE = %.2f degrees' % model_lstm2.evaluate(test_dataset)[1])"
      ]
    },
    {
      "cell_type": "code",
      "execution_count": null,
      "metadata": {
        "colab": {
          "base_uri": "https://localhost:8080/"
        },
        "id": "QFByjrdS99yv",
        "outputId": "02ced2e5-5b28-4cbc-909a-211bfc970fb3"
      },
      "outputs": [
        {
          "name": "stdout",
          "output_type": "stream",
          "text": [
            "Model: \"sequential_4\"\n",
            "_________________________________________________________________\n",
            " Layer (type)                Output Shape              Param #   \n",
            "=================================================================\n",
            " lstm_2 (LSTM)               (None, 14, 20)            2160      \n",
            "                                                                 \n",
            " lstm_3 (LSTM)               (None, 20)                3280      \n",
            "                                                                 \n",
            " dropout_1 (Dropout)         (None, 20)                0         \n",
            "                                                                 \n",
            " dense_5 (Dense)             (None, 1)                 21        \n",
            "                                                                 \n",
            "=================================================================\n",
            "Total params: 5,461\n",
            "Trainable params: 5,461\n",
            "Non-trainable params: 0\n",
            "_________________________________________________________________\n"
          ]
        }
      ],
      "source": [
        "# Performance in the previous figure can (maybe) still be improved\n",
        "# Let's try to add some more layers -- we can do this now that we're no longer overfitting\n",
        "\n",
        "model_lstm3 = models.Sequential()\n",
        "model_lstm3.add(layers.LSTM(20, input_shape=(sequence_length, len(df.columns)-1), recurrent_dropout=0.25, return_sequences=True))  # NEW!\n",
        "model_lstm3.add(layers.LSTM(20, input_shape=(sequence_length, len(df.columns)-1), recurrent_dropout=0.25))  # NEW!!\n",
        "model_lstm3.add(layers.Dropout(0.4))\n",
        "model_lstm3.add(layers.Dense(1))\n",
        "model_lstm3.summary()"
      ]
    },
    {
      "cell_type": "code",
      "execution_count": null,
      "metadata": {
        "colab": {
          "base_uri": "https://localhost:8080/"
        },
        "id": "A_boahlz-AaU",
        "outputId": "15395c45-16f2-43a4-e037-4b7d303b8f72"
      },
      "outputs": [
        {
          "name": "stdout",
          "output_type": "stream",
          "text": [
            "Epoch 1/60\n",
            "80/80 [==============================] - 8s 37ms/step - loss: 114.4838 - mae: 9.5409 - val_loss: 66.7932 - val_mae: 6.8210\n",
            "Epoch 2/60\n",
            "80/80 [==============================] - 3s 31ms/step - loss: 53.4096 - mae: 6.0423 - val_loss: 40.9321 - val_mae: 5.0276\n",
            "Epoch 3/60\n",
            "80/80 [==============================] - 3s 31ms/step - loss: 38.3626 - mae: 5.0673 - val_loss: 33.2416 - val_mae: 4.5915\n",
            "Epoch 4/60\n",
            "80/80 [==============================] - 3s 38ms/step - loss: 30.9709 - mae: 4.5456 - val_loss: 27.2261 - val_mae: 4.1475\n",
            "Epoch 5/60\n",
            "80/80 [==============================] - 3s 41ms/step - loss: 26.6858 - mae: 4.1687 - val_loss: 23.4065 - val_mae: 3.8674\n",
            "Epoch 6/60\n",
            "80/80 [==============================] - 2s 31ms/step - loss: 24.1742 - mae: 3.9206 - val_loss: 21.5860 - val_mae: 3.7769\n",
            "Epoch 7/60\n",
            "80/80 [==============================] - 3s 32ms/step - loss: 20.7565 - mae: 3.6437 - val_loss: 17.6570 - val_mae: 3.3575\n",
            "Epoch 8/60\n",
            "80/80 [==============================] - 3s 32ms/step - loss: 18.0030 - mae: 3.4125 - val_loss: 17.1953 - val_mae: 3.3631\n",
            "Epoch 9/60\n",
            "80/80 [==============================] - 3s 31ms/step - loss: 17.2291 - mae: 3.3074 - val_loss: 14.0407 - val_mae: 2.9847\n",
            "Epoch 10/60\n",
            "80/80 [==============================] - 3s 35ms/step - loss: 15.1237 - mae: 3.0666 - val_loss: 13.1483 - val_mae: 2.9011\n",
            "Epoch 11/60\n",
            "80/80 [==============================] - 5s 59ms/step - loss: 14.1019 - mae: 2.9402 - val_loss: 12.5312 - val_mae: 2.8528\n",
            "Epoch 12/60\n",
            "80/80 [==============================] - 5s 58ms/step - loss: 12.8634 - mae: 2.8324 - val_loss: 10.9420 - val_mae: 2.6466\n",
            "Epoch 13/60\n",
            "80/80 [==============================] - 3s 32ms/step - loss: 13.2605 - mae: 2.9013 - val_loss: 10.1750 - val_mae: 2.5511\n",
            "Epoch 14/60\n",
            "80/80 [==============================] - 2s 31ms/step - loss: 12.1119 - mae: 2.7756 - val_loss: 10.1204 - val_mae: 2.5599\n",
            "Epoch 15/60\n",
            "80/80 [==============================] - 3s 36ms/step - loss: 11.6102 - mae: 2.7302 - val_loss: 9.8733 - val_mae: 2.5405\n",
            "Epoch 16/60\n",
            "80/80 [==============================] - 4s 46ms/step - loss: 11.5123 - mae: 2.6592 - val_loss: 9.1191 - val_mae: 2.4435\n",
            "Epoch 17/60\n",
            "80/80 [==============================] - 3s 35ms/step - loss: 11.0213 - mae: 2.6124 - val_loss: 9.1859 - val_mae: 2.4609\n",
            "Epoch 18/60\n",
            "80/80 [==============================] - 4s 45ms/step - loss: 11.1859 - mae: 2.6734 - val_loss: 8.4920 - val_mae: 2.3557\n",
            "Epoch 19/60\n",
            "80/80 [==============================] - 3s 32ms/step - loss: 10.3061 - mae: 2.5390 - val_loss: 8.7344 - val_mae: 2.3974\n",
            "Epoch 20/60\n",
            "80/80 [==============================] - 3s 33ms/step - loss: 10.8057 - mae: 2.5898 - val_loss: 8.1397 - val_mae: 2.3140\n",
            "Epoch 21/60\n",
            "80/80 [==============================] - 4s 47ms/step - loss: 10.3605 - mae: 2.5468 - val_loss: 7.9892 - val_mae: 2.2870\n",
            "Epoch 22/60\n",
            "80/80 [==============================] - 4s 54ms/step - loss: 9.6625 - mae: 2.4644 - val_loss: 7.5053 - val_mae: 2.2156\n",
            "Epoch 23/60\n",
            "80/80 [==============================] - 5s 65ms/step - loss: 10.0036 - mae: 2.4786 - val_loss: 7.6583 - val_mae: 2.2353\n",
            "Epoch 24/60\n",
            "80/80 [==============================] - 3s 38ms/step - loss: 9.6468 - mae: 2.4736 - val_loss: 7.1683 - val_mae: 2.1617\n",
            "Epoch 25/60\n",
            "80/80 [==============================] - 4s 49ms/step - loss: 9.8248 - mae: 2.4906 - val_loss: 6.9415 - val_mae: 2.1201\n",
            "Epoch 26/60\n",
            "80/80 [==============================] - 3s 35ms/step - loss: 9.7694 - mae: 2.4746 - val_loss: 7.5935 - val_mae: 2.2269\n",
            "Epoch 27/60\n",
            "80/80 [==============================] - 3s 35ms/step - loss: 8.6903 - mae: 2.3573 - val_loss: 6.9751 - val_mae: 2.1185\n",
            "Epoch 28/60\n",
            "80/80 [==============================] - 3s 32ms/step - loss: 9.4402 - mae: 2.4430 - val_loss: 6.7346 - val_mae: 2.0893\n",
            "Epoch 29/60\n",
            "80/80 [==============================] - 3s 31ms/step - loss: 8.8308 - mae: 2.3486 - val_loss: 6.9676 - val_mae: 2.1206\n",
            "Epoch 30/60\n",
            "80/80 [==============================] - 3s 41ms/step - loss: 8.9558 - mae: 2.3748 - val_loss: 6.4855 - val_mae: 2.0371\n",
            "Epoch 31/60\n",
            "80/80 [==============================] - 3s 31ms/step - loss: 8.7116 - mae: 2.3532 - val_loss: 6.1244 - val_mae: 1.9761\n",
            "Epoch 32/60\n",
            "80/80 [==============================] - 3s 32ms/step - loss: 8.8547 - mae: 2.3697 - val_loss: 6.7581 - val_mae: 2.0653\n",
            "Epoch 33/60\n",
            "80/80 [==============================] - 5s 58ms/step - loss: 8.4118 - mae: 2.2870 - val_loss: 6.8530 - val_mae: 2.0915\n"
          ]
        }
      ],
      "source": [
        "model_lstm3.compile(optimizer='rmsprop', loss='mse', metrics=['mae'])\n",
        "\n",
        "callbacks = [EarlyStopping(monitor='val_mae', patience=2)]\n",
        "\n",
        "history_lstm3 = model_lstm3.fit(train_dataset, epochs=60,  # increased number of epochs\n",
        "                            validation_data=val_dataset,\n",
        "                            callbacks=callbacks)  # but added early stopping callback"
      ]
    },
    {
      "cell_type": "code",
      "execution_count": null,
      "metadata": {
        "colab": {
          "base_uri": "https://localhost:8080/",
          "height": 313
        },
        "id": "-oc0_9l5-DMQ",
        "outputId": "a2c721bf-1c66-44cd-d66a-5dadd598dbf1"
      },
      "outputs": [
        {
          "data": {
            "image/png": "[encoded data removed]",
            "text/plain": [
              "<Figure size 432x288 with 1 Axes>"
            ]
          },
          "metadata": {},
          "output_type": "display_data"
        },
        {
          "name": "stdout",
          "output_type": "stream",
          "text": [
            "31/31 [==============================] - 0s 8ms/step - loss: 8.7492 - mae: 2.2470\n",
            "Test MAE = 2.25 degrees\n"
          ]
        }
      ],
      "source": [
        "# Plot MAE cures for validation and training\n",
        "plot_hist_regression(history_lstm3, baseline)\n",
        "print('Test MAE = %.2f degrees' % model_lstm3.evaluate(test_dataset)[1])"
      ]
    },
    {
      "cell_type": "markdown",
      "metadata": {
        "id": "3oHOJ14s-VPs"
      },
      "source": [
        "Validation MAE = 2.24 degrees\n",
        "Test MAE = 2.25 degrees"
      ]
    },
    {
      "cell_type": "code",
      "execution_count": 5,
      "metadata": {
        "id": "1BtyvwiX-UIL"
      },
      "outputs": [],
      "source": [
        "def plot_hist_classif(hist):\n",
        "  n_ = len(hist.history['accuracy'])\n",
        "  plt.plot(range(1, n_+1), 100*np.asarray(hist.history['accuracy']), 'bo', label='Accuracy on training set')\n",
        "  plt.plot(range(1, n_+1), 100*np.asarray(hist.history['val_accuracy']), 'b', label='Accuracy on validation set')\n",
        "  plt.legend()\n",
        "  plt.xlabel(\"Epoch\") \n",
        "  plt.ylabel(\"Accuracy\")\n",
        "  plt.ylim(0, 100)\n",
        "  plt.axhline(y=50)\n",
        "  plt.show()\n"
      ]
    },
    {
      "cell_type": "code",
      "execution_count": 6,
      "metadata": {
        "colab": {
          "base_uri": "https://localhost:8080/"
        },
        "id": "RAIktLXC-ZZZ",
        "outputId": "e2136dfa-ddad-4939-a8bf-49e26f0528b9"
      },
      "outputs": [
        {
          "output_type": "stream",
          "name": "stdout",
          "text": [
            "Loading data...\n",
            "25000 train sequences (25000,)\n",
            "25000 test sequences (25000,)\n"
          ]
        }
      ],
      "source": [
        "max_features = 15000  # only consider the top 15k words\n",
        "maxlen = 500  # first 500 words of each review\n",
        "batch_size = 32\n",
        "\n",
        "print('Loading data...')\n",
        "# Load dataset\n",
        "(x_train, y_train), (x_test, y_test) = keras.datasets.imdb.load_data(num_words=max_features)\n",
        "print(len(x_train), 'train sequences', x_train.shape)\n",
        "print(len(x_test), 'test sequences', x_test.shape)"
      ]
    },
    {
      "cell_type": "code",
      "execution_count": null,
      "metadata": {
        "colab": {
          "base_uri": "https://localhost:8080/"
        },
        "id": "O8ffa69B-bw9",
        "outputId": "b4d66a58-10e0-4605-ca8a-8b35593fb581"
      },
      "outputs": [
        {
          "output_type": "stream",
          "name": "stdout",
          "text": [
            "0.5\n",
            "0.5\n"
          ]
        }
      ],
      "source": [
        "# How balanced is this dataset?\n",
        "print(np.sum(y_train)/len(y_train))\n",
        "print(np.sum(y_test)/len(y_test))"
      ]
    },
    {
      "cell_type": "code",
      "execution_count": 7,
      "metadata": {
        "colab": {
          "base_uri": "https://localhost:8080/"
        },
        "id": "dZpeVMs3-eVx",
        "outputId": "c87955ec-49e5-4f39-d613-bd0887636862"
      },
      "outputs": [
        {
          "output_type": "stream",
          "name": "stdout",
          "text": [
            "(50000,) (50000,)\n",
            "30000 train sequences (30000,)\n",
            "10000 validation sequences (10000,)\n",
            "10000 test sequences (10000,)\n"
          ]
        }
      ],
      "source": [
        "# Merge the two datasets and divide: 60% for training, 20% validation, 20% test\n",
        "x_, y_ = np.concatenate((x_train, x_test)), np.concatenate((y_train, y_test))\n",
        "print(x_.shape, y_.shape)\n",
        "x_train, x_test, y_train, y_test = train_test_split(x_, y_, test_size=0.4, random_state=10)  # 60/40 split\n",
        "x_val, x_test, y_val, y_test = train_test_split(x_test, y_test, test_size=0.5, random_state=10)  # 50/50 split\n",
        "print(len(x_train), 'train sequences', x_train.shape)\n",
        "print(len(x_val), 'validation sequences', x_val.shape)\n",
        "print(len(x_test), 'test sequences', x_test.shape)"
      ]
    },
    {
      "cell_type": "code",
      "execution_count": 11,
      "metadata": {
        "colab": {
          "base_uri": "https://localhost:8080/"
        },
        "id": "u8tF9nBl-g67",
        "outputId": "7155a61c-1001-4f37-de28-33717a98d6d7"
      },
      "outputs": [
        {
          "output_type": "execute_result",
          "data": {
            "text/plain": [
              "[1, 11531, 186, 8, 28, 6, 6482, 7, 269, 4042]"
            ]
          },
          "metadata": {},
          "execution_count": 11
        }
      ],
      "source": [
        "x_train[0][:10]  # numbers!!"
      ]
    },
    {
      "cell_type": "code",
      "execution_count": 8,
      "metadata": {
        "colab": {
          "base_uri": "https://localhost:8080/",
          "height": 71
        },
        "id": "DLD77kMB-jV3",
        "outputId": "85ebfbb5-d357-4871-e261-7cac78e0a921"
      },
      "outputs": [
        {
          "output_type": "execute_result",
          "data": {
            "text/plain": [
              "\"the lilly horror in one is fatale br looks meaningless in bronson be showing as you debut film ample to and ingredients zombi ample they for series and thought she's all manipulate and believing in j show look early last quote desire tight interesting that's kind out is far shelter but of frame br and\""
            ],
            "application/vnd.google.colaboratory.intrinsic+json": {
              "type": "string"
            }
          },
          "metadata": {},
          "execution_count": 8
        }
      ],
      "source": [
        "# We can explore what one of the reviews looks like at this point.\n",
        "\n",
        "# Retrieve the word index file that maps words to indices\n",
        "word_index = keras.datasets.imdb.get_word_index()\n",
        "# Reverse the word index to obtain a dict mapping indices to words (which is what we have)\n",
        "inverted_word_index = dict((i, word) for (word, i) in word_index.items())\n",
        "# Decode the first sequence in the dataset\n",
        "decoded_sequence = \" \".join(inverted_word_index[i] for i in x_train[0])\n",
        "decoded_sequence"
      ]
    },
    {
      "cell_type": "code",
      "execution_count": 9,
      "metadata": {
        "colab": {
          "base_uri": "https://localhost:8080/"
        },
        "id": "FaOP0Icf-sIB",
        "outputId": "6b8c5558-7269-4ca7-b630-5cc1b23768dd"
      },
      "outputs": [
        {
          "output_type": "stream",
          "name": "stdout",
          "text": [
            "Pad sequences\n",
            "x_train shape: (30000, 500)\n",
            "x_val shape: (10000, 500)\n",
            "x_test shape: (10000, 500)\n"
          ]
        }
      ],
      "source": [
        "# Let's ensure all sequences have the same length through padding\n",
        "# - shorter reviews are padded with 0's\n",
        "# - longer reviews are cut\n",
        "print('Pad sequences')\n",
        "x_train = keras.preprocessing.sequence.pad_sequences(x_train, maxlen=maxlen)\n",
        "x_val = keras.preprocessing.sequence.pad_sequences(x_val, maxlen=maxlen)\n",
        "x_test = keras.preprocessing.sequence.pad_sequences(x_test, maxlen=maxlen)\n",
        "print('x_train shape:', x_train.shape)\n",
        "print('x_val shape:', x_val.shape)\n",
        "print('x_test shape:', x_test.shape)"
      ]
    },
    {
      "cell_type": "code",
      "execution_count": null,
      "metadata": {
        "colab": {
          "base_uri": "https://localhost:8080/"
        },
        "id": "6btSCIbd-ul4",
        "outputId": "66c93c7f-edb6-4c77-9fd8-253eec6ff8e2"
      },
      "outputs": [
        {
          "name": "stdout",
          "output_type": "stream",
          "text": [
            "Model: \"sequential\"\n",
            "_________________________________________________________________\n",
            " Layer (type)                Output Shape              Param #   \n",
            "=================================================================\n",
            " embedding (Embedding)       (None, 500, 128)          1920000   \n",
            "                                                                 \n",
            " dense (Dense)               (None, 500, 64)           8256      \n",
            "                                                                 \n",
            " dropout (Dropout)           (None, 500, 64)           0         \n",
            "                                                                 \n",
            " dense_1 (Dense)             (None, 500, 64)           4160      \n",
            "                                                                 \n",
            " dropout_1 (Dropout)         (None, 500, 64)           0         \n",
            "                                                                 \n",
            " flatten (Flatten)           (None, 32000)             0         \n",
            "                                                                 \n",
            " dense_2 (Dense)             (None, 1)                 32001     \n",
            "                                                                 \n",
            "=================================================================\n",
            "Total params: 1,964,417\n",
            "Trainable params: 1,964,417\n",
            "Non-trainable params: 0\n",
            "_________________________________________________________________\n"
          ]
        }
      ],
      "source": [
        "# Basic feedforward model\n",
        "model = models.Sequential()\n",
        "model.add(layers.Embedding(max_features, 128, input_length=maxlen))\n",
        "model.add(layers.Dense(64, activation='relu'))\n",
        "model.add(layers.Dropout(0.5))\n",
        "model.add(layers.Dense(64, activation='relu'))\n",
        "model.add(layers.Dropout(0.5))\n",
        "model.add(layers.Flatten())\n",
        "model.add(layers.Dense(1, activation=\"sigmoid\"))\n",
        "model.summary()"
      ]
    },
    {
      "cell_type": "code",
      "execution_count": null,
      "metadata": {
        "colab": {
          "base_uri": "https://localhost:8080/"
        },
        "id": "Px-F_nfr-xoK",
        "outputId": "4e0aa545-7fe0-48b5-ee85-37c2d53f96fc"
      },
      "outputs": [
        {
          "name": "stdout",
          "output_type": "stream",
          "text": [
            "Epoch 1/20\n",
            "600/600 [==============================] - 11s 12ms/step - loss: 0.5416 - accuracy: 0.6834 - val_loss: 0.2962 - val_accuracy: 0.8792\n",
            "Epoch 2/20\n",
            "600/600 [==============================] - 7s 12ms/step - loss: 0.2710 - accuracy: 0.8897 - val_loss: 0.3024 - val_accuracy: 0.8806\n",
            "Epoch 3/20\n",
            "600/600 [==============================] - 7s 12ms/step - loss: 0.2116 - accuracy: 0.9162 - val_loss: 0.2853 - val_accuracy: 0.8878\n",
            "Epoch 4/20\n",
            "600/600 [==============================] - 7s 12ms/step - loss: 0.1802 - accuracy: 0.9322 - val_loss: 0.2871 - val_accuracy: 0.8895\n",
            "Epoch 5/20\n",
            "600/600 [==============================] - 7s 12ms/step - loss: 0.1568 - accuracy: 0.9423 - val_loss: 0.3003 - val_accuracy: 0.8881\n",
            "Epoch 6/20\n",
            "600/600 [==============================] - 7s 11ms/step - loss: 0.1467 - accuracy: 0.9472 - val_loss: 0.4701 - val_accuracy: 0.8531\n",
            "Epoch 7/20\n",
            "600/600 [==============================] - 7s 12ms/step - loss: 0.1305 - accuracy: 0.9514 - val_loss: 0.3235 - val_accuracy: 0.8869\n",
            "Epoch 8/20\n",
            "600/600 [==============================] - 7s 12ms/step - loss: 0.1157 - accuracy: 0.9568 - val_loss: 0.3489 - val_accuracy: 0.8853\n",
            "Epoch 9/20\n",
            "600/600 [==============================] - 7s 11ms/step - loss: 0.1098 - accuracy: 0.9591 - val_loss: 0.3722 - val_accuracy: 0.8848\n",
            "Epoch 10/20\n",
            "600/600 [==============================] - 7s 12ms/step - loss: 0.1036 - accuracy: 0.9628 - val_loss: 0.5672 - val_accuracy: 0.8478\n",
            "Epoch 11/20\n",
            "600/600 [==============================] - 7s 12ms/step - loss: 0.0945 - accuracy: 0.9663 - val_loss: 0.3841 - val_accuracy: 0.8805\n",
            "Epoch 12/20\n",
            "600/600 [==============================] - 7s 12ms/step - loss: 0.0840 - accuracy: 0.9705 - val_loss: 0.4713 - val_accuracy: 0.8711\n",
            "Epoch 13/20\n",
            "600/600 [==============================] - 7s 12ms/step - loss: 0.0759 - accuracy: 0.9728 - val_loss: 0.4308 - val_accuracy: 0.8788\n",
            "Epoch 14/20\n",
            "600/600 [==============================] - 7s 12ms/step - loss: 0.0759 - accuracy: 0.9740 - val_loss: 0.4559 - val_accuracy: 0.8769\n",
            "Epoch 15/20\n",
            "600/600 [==============================] - 7s 12ms/step - loss: 0.0666 - accuracy: 0.9760 - val_loss: 0.5190 - val_accuracy: 0.8697\n",
            "Epoch 16/20\n",
            "600/600 [==============================] - 7s 12ms/step - loss: 0.0592 - accuracy: 0.9798 - val_loss: 0.5581 - val_accuracy: 0.8598\n",
            "Epoch 17/20\n",
            "600/600 [==============================] - 7s 12ms/step - loss: 0.0572 - accuracy: 0.9801 - val_loss: 0.5485 - val_accuracy: 0.8719\n",
            "Epoch 18/20\n",
            "600/600 [==============================] - 7s 12ms/step - loss: 0.0521 - accuracy: 0.9814 - val_loss: 0.5650 - val_accuracy: 0.8703\n",
            "Epoch 19/20\n",
            "600/600 [==============================] - 7s 12ms/step - loss: 0.0473 - accuracy: 0.9840 - val_loss: 0.6369 - val_accuracy: 0.8689\n",
            "Epoch 20/20\n",
            "600/600 [==============================] - 7s 12ms/step - loss: 0.0453 - accuracy: 0.9851 - val_loss: 0.6493 - val_accuracy: 0.8664\n"
          ]
        }
      ],
      "source": [
        "model.compile(optimizer=\"rmsprop\", loss=\"binary_crossentropy\", metrics=[\"accuracy\"])\n",
        "history = model.fit(x_train, y_train, batch_size=batch_size, epochs=20, validation_data=(x_val, y_val))"
      ]
    },
    {
      "cell_type": "code",
      "execution_count": null,
      "metadata": {
        "colab": {
          "base_uri": "https://localhost:8080/",
          "height": 317
        },
        "id": "oqCoCEly-z1T",
        "outputId": "b61ecb12-0def-4e5c-98a2-ba7b04093a51"
      },
      "outputs": [
        {
          "data": {
            "image/png": "[encoded data removed]",
            "text/plain": [
              "<Figure size 432x288 with 1 Axes>"
            ]
          },
          "metadata": {},
          "output_type": "display_data"
        },
        {
          "name": "stdout",
          "output_type": "stream",
          "text": [
            "200/200 [==============================] - 1s 3ms/step - loss: 0.6329 - accuracy: 0.8677\n",
            "Test Accuracy = 0.87\n"
          ]
        }
      ],
      "source": [
        "plot_hist_classif(history)\n",
        "print('Test Accuracy = %.2f' % model.evaluate(x_test, y_test)[1])  # overfitting!"
      ]
    },
    {
      "cell_type": "code",
      "execution_count": null,
      "metadata": {
        "colab": {
          "base_uri": "https://localhost:8080/"
        },
        "id": "goFwYsFt-2FQ",
        "outputId": "7dd80edc-28b2-48fe-a84a-099c54cae8f3"
      },
      "outputs": [
        {
          "output_type": "stream",
          "name": "stdout",
          "text": [
            "Model: \"sequential\"\n",
            "_________________________________________________________________\n",
            " Layer (type)                Output Shape              Param #   \n",
            "=================================================================\n",
            " embedding (Embedding)       (None, None, 64)          960000    \n",
            "                                                                 \n",
            " lstm (LSTM)                 (None, 128)               98816     \n",
            "                                                                 \n",
            " dropout (Dropout)           (None, 128)               0         \n",
            "                                                                 \n",
            " dense (Dense)               (None, 1)                 129       \n",
            "                                                                 \n",
            "=================================================================\n",
            "Total params: 1,058,945\n",
            "Trainable params: 1,058,945\n",
            "Non-trainable params: 0\n",
            "_________________________________________________________________\n"
          ]
        }
      ],
      "source": [
        "# Let's try an RNN\n",
        "model = models.Sequential()\n",
        "model.add(layers.Embedding(max_features, 64))\n",
        "model.add(layers.LSTM(128, return_sequences=False))\n",
        "model.add(layers.Dropout(0.5))\n",
        "model.add(layers.Dense(1, activation=\"sigmoid\"))\n",
        "model.compile(optimizer=\"rmsprop\", loss=\"binary_crossentropy\", metrics=[\"accuracy\"])\n",
        "model.summary()"
      ]
    },
    {
      "cell_type": "code",
      "execution_count": null,
      "metadata": {
        "colab": {
          "base_uri": "https://localhost:8080/",
          "height": 609
        },
        "id": "EFGDNuVE-4Yu",
        "outputId": "01a732d5-69d6-448c-a436-f1f750f2c346"
      },
      "outputs": [
        {
          "name": "stdout",
          "output_type": "stream",
          "text": [
            "Epoch 1/20\n",
            "938/938 [==============================] - 31s 25ms/step - loss: 0.3973 - accuracy: 0.8282 - val_loss: 0.3026 - val_accuracy: 0.8765\n",
            "Epoch 2/20\n",
            "938/938 [==============================] - 23s 25ms/step - loss: 0.2640 - accuracy: 0.8998 - val_loss: 0.3140 - val_accuracy: 0.8732\n",
            "Epoch 3/20\n",
            "938/938 [==============================] - 24s 26ms/step - loss: 0.2243 - accuracy: 0.9179 - val_loss: 0.2614 - val_accuracy: 0.8952\n",
            "Epoch 4/20\n",
            "938/938 [==============================] - 28s 30ms/step - loss: 0.1918 - accuracy: 0.9313 - val_loss: 0.2517 - val_accuracy: 0.9044\n",
            "Epoch 5/20\n",
            "938/938 [==============================] - 24s 25ms/step - loss: 0.1660 - accuracy: 0.9411 - val_loss: 0.2765 - val_accuracy: 0.9034\n",
            "Epoch 6/20\n",
            "938/938 [==============================] - 23s 25ms/step - loss: 0.1487 - accuracy: 0.9492 - val_loss: 0.2503 - val_accuracy: 0.9076\n",
            "Epoch 7/20\n",
            "938/938 [==============================] - 23s 24ms/step - loss: 0.1266 - accuracy: 0.9573 - val_loss: 0.5141 - val_accuracy: 0.8285\n",
            "Epoch 8/20\n",
            "938/938 [==============================] - 23s 25ms/step - loss: 0.1118 - accuracy: 0.9633 - val_loss: 0.2815 - val_accuracy: 0.9024\n"
          ]
        },
        {
          "data": {
            "image/png": "[encoded data removed]",
            "text/plain": [
              "<Figure size 432x288 with 1 Axes>"
            ]
          },
          "metadata": {},
          "output_type": "display_data"
        },
        {
          "name": "stdout",
          "output_type": "stream",
          "text": [
            "313/313 [==============================] - 4s 11ms/step - loss: 0.2758 - accuracy: 0.9023\n",
            "Test Accuracy = 0.90\n"
          ]
        }
      ],
      "source": [
        "# This model will take a long time to train, so we add an early stopping criterion\n",
        "# N.B: It's actually much faster to train WITHOUT A GPU!!\n",
        "callbacks = [EarlyStopping(monitor='val_accuracy', patience=2)]\n",
        "history = model.fit(x_train, y_train, batch_size=batch_size, epochs=20, validation_data=(x_val, y_val), callbacks=callbacks)\n",
        "plot_hist_classif(history)\n",
        "print('Test Accuracy = %.2f' % model.evaluate(x_test, y_test)[1])\n",
        "# Note that we're still overfitting, but this is just an example of use"
      ]
    },
    {
      "cell_type": "code",
      "execution_count": 16,
      "metadata": {
        "colab": {
          "base_uri": "https://localhost:8080/",
          "height": 813
        },
        "id": "enl430OQ--9v",
        "outputId": "4b197349-c076-4490-bbea-075bc7bd0d83"
      },
      "outputs": [
        {
          "output_type": "stream",
          "name": "stdout",
          "text": [
            "Model: \"sequential_6\"\n",
            "_________________________________________________________________\n",
            " Layer (type)                Output Shape              Param #   \n",
            "=================================================================\n",
            " embedding_6 (Embedding)     (None, 500, 64)           960000    \n",
            "                                                                 \n",
            " bidirectional_10 (Bidirecti  (None, 500, 64)          24832     \n",
            " onal)                                                           \n",
            "                                                                 \n",
            " bidirectional_11 (Bidirecti  (None, 20)               6000      \n",
            " onal)                                                           \n",
            "                                                                 \n",
            " dropout_6 (Dropout)         (None, 20)                0         \n",
            "                                                                 \n",
            " dense_6 (Dense)             (None, 1)                 21        \n",
            "                                                                 \n",
            "=================================================================\n",
            "Total params: 990,853\n",
            "Trainable params: 990,853\n",
            "Non-trainable params: 0\n",
            "_________________________________________________________________\n",
            "None\n",
            "Epoch 1/10\n",
            "938/938 [==============================] - 411s 428ms/step - loss: 0.4171 - accuracy: 0.8166 - val_loss: 0.3092 - val_accuracy: 0.8785\n",
            "Epoch 2/10\n",
            "938/938 [==============================] - 397s 423ms/step - loss: 0.2618 - accuracy: 0.9019 - val_loss: 0.2626 - val_accuracy: 0.9006\n",
            "Epoch 3/10\n",
            "938/938 [==============================] - 393s 419ms/step - loss: 0.2226 - accuracy: 0.9217 - val_loss: 0.2740 - val_accuracy: 0.8939\n"
          ]
        },
        {
          "output_type": "display_data",
          "data": {
            "text/plain": [
              "<Figure size 432x288 with 1 Axes>"
            ],
            "image/png": "[encoded data removed]"
          },
          "metadata": {
            "needs_background": "light"
          }
        },
        {
          "output_type": "stream",
          "name": "stdout",
          "text": [
            "313/313 [==============================] - 55s 170ms/step - loss: 0.2667 - accuracy: 0.8978\n",
            "Test Accuracy = 0.90\n"
          ]
        }
      ],
      "source": [
        "n_ = 10  # number of epochs. You can edit this\n",
        "\n",
        "model = models.Sequential()\n",
        "model.add(layers.Embedding(max_features, 64, input_length=maxlen))\n",
        "model.add(Bidirectional(LSTM(32, return_sequences=True) ))\n",
        "model.add(Bidirectional(LSTM(10)))\n",
        "model.add(layers.Dropout(0.4))\n",
        "model.add(layers.Dense(1, activation=\"sigmoid\"))\n",
        "\n",
        "# I DON'T RECOMMEND THAT YOU CHANGE CODE AFTER THIS POINT\n",
        "model.compile(optimizer=\"rmsprop\", loss=\"binary_crossentropy\", metrics=[\"accuracy\"])\n",
        "\n",
        "print(model.summary())\n",
        "\n",
        "# This model will take a long time to train, so we add an early stopping criterion\n",
        "# I've also added a ModelCheckpoint that will save the best model according to val_accuracy regardless of whether we continue training\n",
        "callbacks = [EarlyStopping(monitor='val_accuracy', patience=1),\n",
        "             ModelCheckpoint(\"model.keras\", save_best_only=True, monitor=\"val_accuracy\", mode='max')]\n",
        "\n",
        "history = model.fit(x_train, y_train, batch_size=batch_size, epochs=n_, \n",
        "                    validation_data=(x_val, y_val), \n",
        "                    callbacks=callbacks)\n",
        "plot_hist_classif(history)\n",
        "model = keras.models.load_model(\"model.keras\")\n",
        "print('Test Accuracy = %.2f' % model.evaluate(x_test, y_test)[1])"
      ]
    },
    {
      "cell_type": "code",
      "execution_count": null,
      "metadata": {
        "colab": {
          "base_uri": "https://localhost:8080/"
        },
        "id": "3YuodV7rrMjF",
        "outputId": "69175763-ff89-4569-814d-f2429a00d807"
      },
      "outputs": [
        {
          "name": "stdout",
          "output_type": "stream",
          "text": [
            "196449\n"
          ]
        }
      ],
      "source": [
        "print(model.count_params())"
      ]
    },
    {
      "cell_type": "code",
      "source": [
        "keras.models.save_model(model, \"Model1.h5\",save_format='h5')"
      ],
      "metadata": {
        "id": "QukWxbuOjaD8"
      },
      "execution_count": 17,
      "outputs": []
    },
    {
      "cell_type": "code",
      "execution_count": 18,
      "metadata": {
        "colab": {
          "base_uri": "https://localhost:8080/"
        },
        "id": "amBZfjaO_Bpr",
        "outputId": "a102ab21-c3d7-4638-97fc-02a5ee3c20a8"
      },
      "outputs": [
        {
          "output_type": "stream",
          "name": "stdout",
          "text": [
            "Your model is accurate enough!\n",
            "Model saved! You can now upload it to the lab quiz.\n"
          ]
        }
      ],
      "source": [
        "if model.count_params() > 1000000:\n",
        "    print(\"Due to memory constraints on Moodle, the lab quiz has a 10MB limit on your model size, so you need to use a smaller model to validate through the auto-marker.\")\n",
        "\n",
        "if history.history[\"val_accuracy\"][-1] > 0.8:\n",
        "    print(\"Your model is accurate enough!\")\n",
        "\n",
        "else:\n",
        "    print(\"Accuracy is below the threshold!\")\n",
        "    raise Exception(\"Your model isn't accurate enough to pass the progress checker!\")\n",
        "# Save the model into a local folder\n",
        "keras.models.save_model(model, \"Model.h5\",save_format='h5')\n",
        "print('Model saved! You can now upload it to the lab quiz.')"
      ]
    }
  ],
  "metadata": {
    "accelerator": "GPU",
    "colab": {
      "name": "RNN.ipynb",
      "provenance": [],
      "authorship_tag": "ABX9TyNlD4WE87fM7ecdy1ROhUik",
      "include_colab_link": true
    },
    "kernelspec": {
      "display_name": "Python 3",
      "name": "python3"
    },
    "language_info": {
      "name": "python"
    }
  },
  "nbformat": 4,
  "nbformat_minor": 0
}