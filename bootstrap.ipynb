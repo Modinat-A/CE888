{
  "nbformat": 4,
  "nbformat_minor": 0,
  "metadata": {
    "colab": {
      "name": "bootstrap.ipynb",
      "provenance": [],
      "authorship_tag": "ABX9TyPRplpXOnq7rRV3ltx1perf",
      "include_colab_link": true
    },
    "kernelspec": {
      "name": "python3",
      "display_name": "Python 3"
    },
    "language_info": {
      "name": "python"
    }
  },
  "cells": [
    {
      "cell_type": "markdown",
      "metadata": {
        "id": "view-in-github",
        "colab_type": "text"
      },
      "source": [
        "<a href=\"https://colab.research.google.com/github/Modinat-A/CE888/blob/main/bootstrap.ipynb\" target=\"_parent\"><img src=\"https://colab.research.google.com/assets/colab-badge.svg\" alt=\"Open In Colab\"/></a>"
      ]
    },
    {
      "cell_type": "markdown",
      "source": [
        "## Customers \n"
      ],
      "metadata": {
        "id": "caIKBKR2f-NE"
      }
    },
    {
      "cell_type": "code",
      "execution_count": 1,
      "metadata": {
        "id": "wwhON0EsE6tZ"
      },
      "outputs": [],
      "source": [
        "import matplotlib\n",
        "import pandas as pd\n",
        "import seaborn as sns\n",
        "import numpy as np"
      ]
    },
    {
      "cell_type": "code",
      "source": [
        "# Load the data\n",
        "df = pd.read_csv('https://raw.githubusercontent.com/albanda/CE888/master/lab2%20-%20bootstrap/customers.csv')\n",
        "data = df.values.T[1]"
      ],
      "metadata": {
        "id": "fOj5vTTNFCnk"
      },
      "execution_count": 138,
      "outputs": []
    },
    {
      "cell_type": "code",
      "source": [
        "def bootstrap_mean(x, sample_size, n_bootstraps):\n",
        "    samples = np.random.choice(x,[sample_size])\n",
        "    data_mean = np.mean(samples)\n",
        "    lower = np.percentile(data_mean,2.5)\n",
        "    upper = np.percentile(data_mean,97.5)\n",
        "    return data_mean, lower, upper"
      ],
      "metadata": {
        "id": "lX9xeaRJZf1e"
      },
      "execution_count": 83,
      "outputs": []
    },
    {
      "cell_type": "code",
      "source": [
        "boots = []\n",
        "for i in range(100, 50000, 1000):\n",
        "    boot = bootstrap_mean(data, data.shape[0], i)\n",
        "    boots.append([i, boot[0], \"mean\"])\n",
        "    boots.append([i, boot[1], \"lower\"])\n",
        "    boots.append([i, boot[2], \"upper\"])\n",
        "\n",
        "df_boot = pd.DataFrame(boots, columns=['Bootstrap Iterations', 'Mean', \"Value\"])\n",
        "sns_plot = sns.lmplot(df_boot.columns[0], df_boot.columns[1], data=df_boot, fit_reg=False, hue=\"Value\")\n",
        "\n",
        "sns_plot.axes[0, 0].set_ylim(0,)\n",
        "sns_plot.axes[0, 0].set_xlim(0, 50000)"
      ],
      "metadata": {
        "id": "S5Ut0t2mgX8f",
        "colab": {
          "base_uri": "https://localhost:8080/",
          "height": 444
        },
        "outputId": "9c4d0d0e-fd73-4d0b-d02f-a16e64cd69fb"
      },
      "execution_count": 84,
      "outputs": [
        {
          "output_type": "stream",
          "name": "stderr",
          "text": [
            "/usr/local/lib/python3.7/dist-packages/seaborn/_decorators.py:43: FutureWarning: Pass the following variables as keyword args: x, y. From version 0.12, the only valid positional argument will be `data`, and passing other arguments without an explicit keyword will result in an error or misinterpretation.\n",
            "  FutureWarning\n"
          ]
        },
        {
          "output_type": "execute_result",
          "data": {
            "text/plain": [
              "(0.0, 50000.0)"
            ]
          },
          "metadata": {},
          "execution_count": 84
        },
        {
          "output_type": "display_data",
          "data": {
            "image/png": "[encoded data removed]",
            "text/plain": [
              "<Figure size 425.125x360 with 1 Axes>"
            ]
          },
          "metadata": {
            "needs_background": "light"
          }
        }
      ]
    },
    {
      "cell_type": "code",
      "source": [
        "\n",
        "# Checking the notes from the lecture, create here your own bootstrap function:\n",
        "# 1. Sample from the input array x to create an array of samples of shape (n_bootstraps, sample_size)\n",
        "# Hint: Check the function random.choice() on Numpy\n",
        "# 2. Calculate and save the mean of the array (this is \"data_mean\" that is returned by the function)\n",
        "# 3. Calculate the mean from each bootstrap (i.e., row) and store it.\n",
        "# (This should be an array of n_bootstraps values)\n",
        "# 4. Calculate the lower and upper bounds for a 95% CI (hint: check the percentile function on Numpy)\n",
        "# 5. Return data_mean, and the lower and upper bounds of your interval\n",
        "\n",
        "def bootstrap_mean_ci(sample, sample_size, n_bootstraps, ci):\n",
        "    ci = (100-ci)/2 \n",
        "    samples = np.random.choice(sample,  size=(n_bootstraps,sample_size), replace=True)\n",
        "    data_mean = np.mean(samples)\n",
        "    row_means = np.mean(samples, axis=1)\n",
        "    lower = np.percentile(row_means, ci)\n",
        "    upper = np.percentile(row_means, (100- ci))\n",
        "    return data_mean, lower, upper"
      ],
      "metadata": {
        "id": "uu1ZhIznkOrP"
      },
      "execution_count": 168,
      "outputs": []
    },
    {
      "cell_type": "code",
      "source": [
        "boots = []\n",
        "for i in range(100, 50000, 1000):\n",
        "    boot = bootstrap_mean_ci(data, data.shape[0], i, 80)\n",
        "    boots.append([i, boot[0], \"mean\"])\n",
        "    boots.append([i, boot[1], \"lower\"])\n",
        "    boots.append([i, boot[2], \"upper\"])\n",
        "\n",
        "df_boot = pd.DataFrame(boots, columns=['Boostrap Iterations', 'Mean', \"Value\"])\n",
        "sns_plot = sns.lmplot(df_boot.columns[0], df_boot.columns[1], data=df_boot, fit_reg=False, hue=\"Value\")\n",
        "\n",
        "sns_plot.axes[0, 0].set_ylim(0,)\n",
        "sns_plot.axes[0, 0].set_xlim(0, 50000)\n",
        "\n",
        "\n",
        "#sns_plot.savefig(\"bootstrap_confidence_80.pdf\", bbox_inches='tight')\n",
        "\n"
      ],
      "metadata": {
        "colab": {
          "base_uri": "https://localhost:8080/",
          "height": 444
        },
        "id": "unitvSB-QhtS",
        "outputId": "8765f464-bb58-4201-d07b-8db767af6830"
      },
      "execution_count": 154,
      "outputs": [
        {
          "output_type": "stream",
          "name": "stderr",
          "text": [
            "/usr/local/lib/python3.7/dist-packages/seaborn/_decorators.py:43: FutureWarning: Pass the following variables as keyword args: x, y. From version 0.12, the only valid positional argument will be `data`, and passing other arguments without an explicit keyword will result in an error or misinterpretation.\n",
            "  FutureWarning\n"
          ]
        },
        {
          "output_type": "execute_result",
          "data": {
            "text/plain": [
              "(0.0, 50000.0)"
            ]
          },
          "metadata": {},
          "execution_count": 154
        },
        {
          "output_type": "display_data",
          "data": {
            "image/png": "[encoded data removed]",
            "text/plain": [
              "<Figure size 425.125x360 with 1 Axes>"
            ]
          },
          "metadata": {
            "needs_background": "light"
          }
        }
      ]
    },
    {
      "cell_type": "code",
      "source": [
        "# Load and visualise the vehicles dataset\n",
        "df = pd.read_csv('https://raw.githubusercontent.com/albanda/CE888/master/lab2%20-%20bootstrap/vehicles.csv')\n",
        "old_fleets = df.values.T[0]\n",
        "new_fleets = df['New Fleet'].dropna().values"
      ],
      "metadata": {
        "id": "wicvy3PfgPIY"
      },
      "execution_count": 155,
      "outputs": []
    },
    {
      "cell_type": "code",
      "source": [
        "# visualise the vehicles old fleet\n",
        "sns.distplot(old_fleets,bins = 20,kde=False,rug=True)"
      ],
      "metadata": {
        "id": "kKdqADOAjr2-",
        "colab": {
          "base_uri": "https://localhost:8080/",
          "height": 377
        },
        "outputId": "24811ee4-801b-47c4-c5e0-9f2de7b54b7c"
      },
      "execution_count": 156,
      "outputs": [
        {
          "output_type": "stream",
          "name": "stderr",
          "text": [
            "/usr/local/lib/python3.7/dist-packages/seaborn/distributions.py:2619: FutureWarning: `distplot` is a deprecated function and will be removed in a future version. Please adapt your code to use either `displot` (a figure-level function with similar flexibility) or `histplot` (an axes-level function for histograms).\n",
            "  warnings.warn(msg, FutureWarning)\n",
            "/usr/local/lib/python3.7/dist-packages/seaborn/distributions.py:2103: FutureWarning: The `axis` variable is no longer used and will be removed. Instead, assign variables directly to `x` or `y`.\n",
            "  warnings.warn(msg, FutureWarning)\n"
          ]
        },
        {
          "output_type": "execute_result",
          "data": {
            "text/plain": [
              "<matplotlib.axes._subplots.AxesSubplot at 0x7f75f2129e10>"
            ]
          },
          "metadata": {},
          "execution_count": 156
        },
        {
          "output_type": "display_data",
          "data": {
            "image/png": "[encoded data removed]",
            "text/plain": [
              "<Figure size 432x288 with 1 Axes>"
            ]
          },
          "metadata": {
            "needs_background": "light"
          }
        }
      ]
    },
    {
      "cell_type": "code",
      "source": [
        "# visualise the vehicles old fleet\n",
        "sns.distplot(new_fleets,bins = 20,kde=False,rug=True)"
      ],
      "metadata": {
        "colab": {
          "base_uri": "https://localhost:8080/",
          "height": 377
        },
        "id": "6daiwSa362zl",
        "outputId": "06385f12-9815-4cbc-8c89-6db11854b7a2"
      },
      "execution_count": 157,
      "outputs": [
        {
          "output_type": "stream",
          "name": "stderr",
          "text": [
            "/usr/local/lib/python3.7/dist-packages/seaborn/distributions.py:2619: FutureWarning: `distplot` is a deprecated function and will be removed in a future version. Please adapt your code to use either `displot` (a figure-level function with similar flexibility) or `histplot` (an axes-level function for histograms).\n",
            "  warnings.warn(msg, FutureWarning)\n",
            "/usr/local/lib/python3.7/dist-packages/seaborn/distributions.py:2103: FutureWarning: The `axis` variable is no longer used and will be removed. Instead, assign variables directly to `x` or `y`.\n",
            "  warnings.warn(msg, FutureWarning)\n"
          ]
        },
        {
          "output_type": "execute_result",
          "data": {
            "text/plain": [
              "<matplotlib.axes._subplots.AxesSubplot at 0x7f75f2704050>"
            ]
          },
          "metadata": {},
          "execution_count": 157
        },
        {
          "output_type": "display_data",
          "data": {
            "image/png": "[encoded data removed]",
            "text/plain": [
              "<Figure size 432x288 with 1 Axes>"
            ]
          },
          "metadata": {
            "needs_background": "light"
          }
        }
      ]
    },
    {
      "cell_type": "code",
      "source": [
        "# show 73%  confidence interval with 10k permutations\n",
        "mean, lower, upper = bootstrap_mean_ci(data, len(data), 10000, 80)\n",
        "print(mean ,lower,upper)"
      ],
      "metadata": {
        "colab": {
          "base_uri": "https://localhost:8080/"
        },
        "id": "bKk7jL-b1DWW",
        "outputId": "7b5f2883-650f-486f-e8d0-5aa8dfbf326c"
      },
      "execution_count": 171,
      "outputs": [
        {
          "output_type": "stream",
          "name": "stdout",
          "text": [
            "9.217921428571428 7.357142857142856 11.214285714285714\n"
          ]
        }
      ]
    },
    {
      "cell_type": "markdown",
      "source": [
        "Compare the two fleets\n",
        "\n",
        "The business analysts come up a comparison algorithm that requires the upper and lower bounds for the mean in order to say which fleet is better.\n",
        "\n",
        "1. Calculate the mean of both samples.\n",
        "\n",
        "2. Using the bootstrap function that you created:\n",
        "\n",
        "   *  Construct the 95% CI of the mean of the current fleet.\n",
        "   *  Construct the 95% CI of the mean of the new fleet.\n",
        "   *  Are they comparable? (i.e., is one better than the other?) -- you can do this with a permutation test (check the lecture notes!)"
      ],
      "metadata": {
        "id": "2VD0PyzxypGb"
      }
    },
    {
      "cell_type": "code",
      "source": [
        "# show 95% and 85% confidence interval with 20k permutations\n",
        "old_fleets_mean = np.mean(old_fleets)\n",
        "new_fleets_mean = np.mean(new_fleets)\n",
        "\n",
        "old_fleet_mean, lower, upper = bootstrap_mean_ci(old_fleets, len(old_fleets), 20000, 95)\n",
        "new_fleet_mean, lower, upper = bootstrap_mean_ci(new_fleets, len(new_fleets), 20000, 60)\n",
        "\n",
        "\n",
        "print(' 95% CI of the mean of the current fleet',old_fleet_mean)\n",
        "print(' 95% CI of the mean of the new fleet',new_fleet_mean)\n",
        "\n",
        "old_fleet_mean, lower, upper = bootstrap_mean_ci(old_fleets, len(old_fleets), 20000, 85)\n",
        "new_fleet_mean, lower, upper = bootstrap_mean_ci(new_fleets, len(new_fleets), 20000, 85)\n",
        "\n",
        "\n",
        "print(' 85% CI of the mean of the current fleet',old_fleet_mean)\n",
        "print(' 85% CI of the mean of the new fleet',new_fleet_mean)"
      ],
      "metadata": {
        "id": "0QI2V0uBDpqU",
        "colab": {
          "base_uri": "https://localhost:8080/"
        },
        "outputId": "b7a05e74-135e-4bff-ab62-1bb2c9c991aa"
      },
      "execution_count": 159,
      "outputs": [
        {
          "output_type": "stream",
          "name": "stdout",
          "text": [
            " 95% CI of the mean of the current fleet 20.14138313253012\n",
            " 95% CI of the mean of the new fleet 30.477724683544302\n",
            " 85% CI of the mean of the current fleet 20.14394738955823\n",
            " 85% CI of the mean of the new fleet 30.477246202531646\n"
          ]
        }
      ]
    },
    {
      "cell_type": "code",
      "source": [
        "new_fleet_mean, lower, upper = bootstrap_mean_ci(new_fleets, len(new_fleets), 10000, 60)\n",
        "print(lower, upper)\n",
        "\n",
        "new_fleet_mean, lower, upper = bootstrap_mean_ci(old_fleets, len(old_fleets), 10000, 95)\n",
        "print(lower, upper)"
      ],
      "metadata": {
        "colab": {
          "base_uri": "https://localhost:8080/"
        },
        "id": "VCHGC8TE9bXf",
        "outputId": "1d20db19-727c-46d1-ae3a-e5b727b63385"
      },
      "execution_count": 170,
      "outputs": [
        {
          "output_type": "stream",
          "name": "stdout",
          "text": [
            "29.908860759493674 31.037974683544302\n",
            "19.353413654618475 20.947791164658636\n"
          ]
        }
      ]
    },
    {
      "cell_type": "code",
      "source": [
        "# show 85% confidence interval with 20k permutations\n",
        "old_fleets_mean = np.mean(old_fleets)\n",
        "new_fleets_mean = np.mean(new_fleets)\n",
        "\n",
        "old_fleet_mean, lower, upper = bootstrap_mean_ci(old_fleets, len(old_fleets), 20000, 85)\n",
        "\n",
        "new_fleet_mean, lower, upper = bootstrap_mean_ci(new_fleets, len(new_fleets), 20000, 85)\n",
        "\n",
        "\n",
        "print(' 85% CI of the mean of the current fleet',old_fleet_mean)\n",
        "print(' 85% CI of the mean of the new fleet',new_fleet_mean)"
      ],
      "metadata": {
        "colab": {
          "base_uri": "https://localhost:8080/"
        },
        "id": "8vK-WbC00nP_",
        "outputId": "525cf31f-963b-4054-b44b-564a81ed940a"
      },
      "execution_count": 60,
      "outputs": [
        {
          "output_type": "stream",
          "name": "stdout",
          "text": [
            " 85% CI of the mean of the current fleet 20.502008032128515\n",
            " 85% CI of the mean of the new fleet 29.772151898734176\n"
          ]
        }
      ]
    },
    {
      "cell_type": "code",
      "source": [
        "\n",
        "def permut_test(sample1, sample2, n_permutations):\n",
        "    concat = np.concatenate((sample1,sample2))\n",
        "    test_obs = np.mean(sample2) - np.mean(sample1)\n",
        "    count = 0\n",
        "    old_fleet_size = len(sample2)\n",
        "    for i in range(0,n_permutations):\n",
        "        perm = np.random.permutation(concat)\n",
        "        perm1 = perm[:old_fleet_size]\n",
        "        perm2 = perm[old_fleet_size:]\n",
        "        test_perm = np.mean(perm2) - np.mean(perm1)\n",
        "        count +=  test_perm > test_obs\n",
        "    pvalue = count/n_permutations\n",
        "    return pvalue\n",
        "\n",
        "p_value = permut_test(old_fleets,new_fleets, 30000)\n",
        "print(p_value, ' < 0.05, we reject the null hypothesis')"
      ],
      "metadata": {
        "id": "f-20Snr-D-A1",
        "colab": {
          "base_uri": "https://localhost:8080/"
        },
        "outputId": "eab81cfc-7cf2-41e4-fb95-703fc423cb71"
      },
      "execution_count": 132,
      "outputs": [
        {
          "output_type": "stream",
          "name": "stdout",
          "text": [
            "79\n",
            "0.0  < 0.05, we reject the null hypothesis\n"
          ]
        }
      ]
    },
    {
      "cell_type": "code",
      "source": [
        "dem_share_PA = [60.08, 40.64, 36.07, 41.21, 31.04, 43.78, 44.08, 46.85, 44.71, 46.15, 63.10, 52.20, 43.18, 40.24, 39.92, 47.87, 37.77, 40.11, 49.85, 48.61, 38.62, 54.25, 34.84, 47.75, 43.82, 55.97, 58.23, 42.97, 42.38, 36.11, 37.53, 42.65, 50.96, 47.43, 56.24, 45.60, 46.39, 35.22, 48.56, 32.97, 57.88, 36.05, 37.72, 50.36, 32.12, 41.55, 54.66, 57.81, 54.58, 32.88, 54.37, 40.45, 47.61, 60.49, 43.11, 27.32, 44.03, 33.56, 37.26, 54.64, 43.12, 25.34, 49.79, 83.56, 40.09, 60.81, 49.81]"
      ],
      "metadata": {
        "id": "AEC2EbaXwieo"
      },
      "execution_count": 42,
      "outputs": []
    },
    {
      "cell_type": "code",
      "source": [
        "dem_share_OH = [56.94, 50.46, 65.99, 45.88, 42.23, 45.26, 57.01, 53.61, 59.10, 61.48, 43.43, 44.69, 54.59, 48.36, 45.89, 48.62, 43.92, 38.23, 28.79, 63.57, 38.07, 40.18, 43.05, 41.56, 42.49, 36.06, 52.76, 46.07, 39.43, 39.26, 47.47, 27.92, 38.01, 45.45, 29.07, 28.94, 51.28, 50.10, 39.84, 36.43, 35.71, 31.47, 47.01, 40.10, 48.76, 31.56, 39.86, 45.31, 35.47, 51.38, 46.33, 48.73, 41.77, 41.32, 48.46, 53.14, 34.01, 54.74, 40.67, 38.96, 46.29, 38.25, 6.80, 31.75, 46.33, 44.90, 33.57, 38.10, 39.67, 40.47, 49.44, 37.62, 36.71, 46.73, 42.20, 53.16, 52.40, 58.36, 68.02, 38.53, 34.58, 69.64, 60.50, 53.53, 36.54, 49.58, 41.97, 38.11]\n"
      ],
      "metadata": {
        "id": "Ei8kx8wr3pkB"
      },
      "execution_count": 43,
      "outputs": []
    },
    {
      "cell_type": "code",
      "source": [
        "print(len(dem_share_OH))\n",
        "print(len(dem_share_PA))"
      ],
      "metadata": {
        "colab": {
          "base_uri": "https://localhost:8080/"
        },
        "id": "UuCYODe93s-C",
        "outputId": "9011f79b-b3e5-4c19-ad45-38476491ee4e"
      },
      "execution_count": 44,
      "outputs": [
        {
          "output_type": "stream",
          "name": "stdout",
          "text": [
            "88\n",
            "67\n"
          ]
        }
      ]
    },
    {
      "cell_type": "code",
      "source": [
        "mean, lower, upper = bootstrap_mean_ci(dem_share_PA, len(dem_share_PA), 25000, 90)\n",
        "print(lower,upper)"
      ],
      "metadata": {
        "colab": {
          "base_uri": "https://localhost:8080/"
        },
        "id": "w7Jf4wIU4HBB",
        "outputId": "db1750f8-99a8-46d1-f3dd-a95041094d1d"
      },
      "execution_count": 172,
      "outputs": [
        {
          "output_type": "stream",
          "name": "stdout",
          "text": [
            "43.54044029850747 47.44465671641792\n"
          ]
        }
      ]
    },
    {
      "cell_type": "code",
      "source": [
        "mean, lower, upper = bootstrap_mean_ci(dem_share_OH, len(dem_share_OH), 25000, 90)\n",
        "print(lower,upper)"
      ],
      "metadata": {
        "colab": {
          "base_uri": "https://localhost:8080/"
        },
        "id": "PQZ4u2Eh456S",
        "outputId": "b4c0aac0-8695-41e5-ddd8-77d629d6e78a"
      },
      "execution_count": 174,
      "outputs": [
        {
          "output_type": "stream",
          "name": "stdout",
          "text": [
            "42.602045454545454 46.04455681818182\n"
          ]
        }
      ]
    },
    {
      "cell_type": "code",
      "source": [
        "p_value = permut_test(dem_share_OH,dem_share_PA, 30000)\n",
        "print('if ', p_value, ' > 0.05, we have failed to reject the null hypothesis')"
      ],
      "metadata": {
        "colab": {
          "base_uri": "https://localhost:8080/"
        },
        "id": "lepQn19H5qRR",
        "outputId": "0e266d2a-a585-423c-d13c-e625ec9b2e49"
      },
      "execution_count": 175,
      "outputs": [
        {
          "output_type": "stream",
          "name": "stdout",
          "text": [
            "67\n",
            "if  0.23626666666666668  > 0.05, we have failed to reject the null hypothesis\n"
          ]
        }
      ]
    }
  ]
}