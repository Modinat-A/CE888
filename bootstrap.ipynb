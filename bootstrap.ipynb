{
  "nbformat": 4,
  "nbformat_minor": 0,
  "metadata": {
    "colab": {
      "name": "bootstrap.ipynb",
      "provenance": [],
      "authorship_tag": "ABX9TyNi4fGKFvK5LN4JffFlMjfa",
      "include_colab_link": true
    },
    "kernelspec": {
      "name": "python3",
      "display_name": "Python 3"
    },
    "language_info": {
      "name": "python"
    }
  },
  "cells": [
    {
      "cell_type": "markdown",
      "metadata": {
        "id": "view-in-github",
        "colab_type": "text"
      },
      "source": [
        "<a href=\"https://colab.research.google.com/github/Modinat-A/CE888/blob/main/bootstrap.ipynb\" target=\"_parent\"><img src=\"https://colab.research.google.com/assets/colab-badge.svg\" alt=\"Open In Colab\"/></a>"
      ]
    },
    {
      "cell_type": "markdown",
      "source": [
        "## Customers \n"
      ],
      "metadata": {
        "id": "caIKBKR2f-NE"
      }
    },
    {
      "cell_type": "code",
      "execution_count": 1,
      "metadata": {
        "id": "wwhON0EsE6tZ"
      },
      "outputs": [],
      "source": [
        "import matplotlib\n",
        "import pandas as pd\n",
        "import seaborn as sns\n",
        "import numpy as np"
      ]
    },
    {
      "cell_type": "code",
      "source": [
        "# Load the data\n",
        "df = pd.read_csv('https://raw.githubusercontent.com/albanda/CE888/master/lab2%20-%20bootstrap/customers.csv')\n",
        "data = df.values.T[1]"
      ],
      "metadata": {
        "id": "fOj5vTTNFCnk"
      },
      "execution_count": 26,
      "outputs": []
    },
    {
      "cell_type": "code",
      "source": [
        "def bootstrap_mean(x, sample_size, n_bootstraps):\n",
        "    samples = np.random.choice(x,[sample_size])\n",
        "    data_mean = np.mean(samples)\n",
        "    lower = np.percentile(samples,2.5)\n",
        "    upper = np.percentile(samples,97.5)\n",
        "    return data_mean, lower, upper"
      ],
      "metadata": {
        "id": "lX9xeaRJZf1e"
      },
      "execution_count": 49,
      "outputs": []
    },
    {
      "cell_type": "code",
      "source": [
        "boots = []\n",
        "for i in range(100, 50000, 1000):\n",
        "    boot = bootstrap_mean(data, data.shape[0], i)\n",
        "    boots.append([i, boot[0], \"mean\"])\n",
        "    boots.append([i, boot[1], \"lower\"])\n",
        "    boots.append([i, boot[2], \"upper\"])\n",
        "\n",
        "df_boot = pd.DataFrame(boots, columns=['Bootstrap Iterations', 'Mean', \"Value\"])\n",
        "sns_plot = sns.lmplot(df_boot.columns[0], df_boot.columns[1], data=df_boot, fit_reg=False, hue=\"Value\")\n",
        "\n",
        "sns_plot.axes[0, 0].set_ylim(0,)\n",
        "sns_plot.axes[0, 0].set_xlim(0, 50000)"
      ],
      "metadata": {
        "id": "S5Ut0t2mgX8f",
        "colab": {
          "base_uri": "https://localhost:8080/",
          "height": 444
        },
        "outputId": "19f97e8b-8b74-480e-e9be-bf39e8e008ef"
      },
      "execution_count": 50,
      "outputs": [
        {
          "output_type": "stream",
          "name": "stderr",
          "text": [
            "/usr/local/lib/python3.7/dist-packages/seaborn/_decorators.py:43: FutureWarning: Pass the following variables as keyword args: x, y. From version 0.12, the only valid positional argument will be `data`, and passing other arguments without an explicit keyword will result in an error or misinterpretation.\n",
            "  FutureWarning\n"
          ]
        },
        {
          "output_type": "execute_result",
          "data": {
            "text/plain": [
              "(0.0, 50000.0)"
            ]
          },
          "metadata": {},
          "execution_count": 50
        },
        {
          "output_type": "display_data",
          "data": {
            "image/png": "[encoded data removed]",
            "text/plain": [
              "<Figure size 425.125x360 with 1 Axes>"
            ]
          },
          "metadata": {
            "needs_background": "light"
          }
        }
      ]
    },
    {
      "cell_type": "code",
      "source": [
        "def bootstrap_mean_ci(sample, sample_size, n_bootstraps, ci):\n",
        "    ci = (100-ci)/2 \n",
        "    samples = np.random.choice(sample, [sample_size])\n",
        "    data_mean = np.mean(samples)\n",
        "    lower = np.percentile(samples,ci)\n",
        "    upper = np.percentile(samples,(100- ci))\n",
        "    return data_mean, lower, upper"
      ],
      "metadata": {
        "id": "uu1ZhIznkOrP"
      },
      "execution_count": 51,
      "outputs": []
    },
    {
      "cell_type": "code",
      "source": [
        "for i in range(100, 50000, 1000):\n",
        "    boot = bootstrap_mean_ci(data, data.shape[0], i, 80)\n",
        "    boots.append([i, boot[0], \"mean\"])\n",
        "    boots.append([i, boot[1], \"lower\"])\n",
        "    boots.append([i, boot[2], \"upper\"])\n",
        "\n",
        "df_boot = pd.DataFrame(boots, columns=['Boostrap Iterations', 'Mean', \"Value\"])\n",
        "sns_plot = sns.lmplot(df_boot.columns[0], df_boot.columns[1], data=df_boot, fit_reg=False, hue=\"Value\")\n",
        "\n",
        "sns_plot.axes[0, 0].set_ylim(0,)\n",
        "sns_plot.axes[0, 0].set_xlim(0, 50000)\n",
        "\n",
        "#sns_plot.savefig(\"bootstrap_confidence_80.pdf\", bbox_inches='tight')\n"
      ],
      "metadata": {
        "colab": {
          "base_uri": "https://localhost:8080/",
          "height": 444
        },
        "id": "unitvSB-QhtS",
        "outputId": "9bd9d8bd-0160-4051-d08f-e08dabf7ab8d"
      },
      "execution_count": 52,
      "outputs": [
        {
          "output_type": "stream",
          "name": "stderr",
          "text": [
            "/usr/local/lib/python3.7/dist-packages/seaborn/_decorators.py:43: FutureWarning: Pass the following variables as keyword args: x, y. From version 0.12, the only valid positional argument will be `data`, and passing other arguments without an explicit keyword will result in an error or misinterpretation.\n",
            "  FutureWarning\n"
          ]
        },
        {
          "output_type": "execute_result",
          "data": {
            "text/plain": [
              "(0.0, 50000.0)"
            ]
          },
          "metadata": {},
          "execution_count": 52
        },
        {
          "output_type": "display_data",
          "data": {
            "image/png": "[encoded data removed]",
            "text/plain": [
              "<Figure size 425.125x360 with 1 Axes>"
            ]
          },
          "metadata": {
            "needs_background": "light"
          }
        }
      ]
    },
    {
      "cell_type": "code",
      "source": [
        "# Load and visualise the vehicles dataset\n",
        "df = pd.read_csv('https://raw.githubusercontent.com/albanda/CE888/master/lab2%20-%20bootstrap/vehicles.csv')\n",
        "old_fleets = df.values.T[0]\n",
        "new_fleets = df['New Fleet'].dropna().values"
      ],
      "metadata": {
        "id": "wicvy3PfgPIY"
      },
      "execution_count": 53,
      "outputs": []
    },
    {
      "cell_type": "code",
      "source": [
        "# visualise the vehicles old fleet\n",
        "sns.distplot(old_fleets,bins = 20,kde=False,rug=True)"
      ],
      "metadata": {
        "id": "kKdqADOAjr2-",
        "colab": {
          "base_uri": "https://localhost:8080/",
          "height": 377
        },
        "outputId": "39c3e107-97a9-4562-ed11-73913dbda7ab"
      },
      "execution_count": 56,
      "outputs": [
        {
          "output_type": "stream",
          "name": "stderr",
          "text": [
            "/usr/local/lib/python3.7/dist-packages/seaborn/distributions.py:2619: FutureWarning: `distplot` is a deprecated function and will be removed in a future version. Please adapt your code to use either `displot` (a figure-level function with similar flexibility) or `histplot` (an axes-level function for histograms).\n",
            "  warnings.warn(msg, FutureWarning)\n",
            "/usr/local/lib/python3.7/dist-packages/seaborn/distributions.py:2103: FutureWarning: The `axis` variable is no longer used and will be removed. Instead, assign variables directly to `x` or `y`.\n",
            "  warnings.warn(msg, FutureWarning)\n"
          ]
        },
        {
          "output_type": "execute_result",
          "data": {
            "text/plain": [
              "<matplotlib.axes._subplots.AxesSubplot at 0x7f75f2c673d0>"
            ]
          },
          "metadata": {},
          "execution_count": 56
        },
        {
          "output_type": "display_data",
          "data": {
            "image/png": "[encoded data removed]",
            "text/plain": [
              "<Figure size 432x288 with 1 Axes>"
            ]
          },
          "metadata": {
            "needs_background": "light"
          }
        }
      ]
    },
    {
      "cell_type": "code",
      "source": [
        "# visualise the vehicles old fleet\n",
        "sns.distplot(new_fleets,bins = 20,kde=False,rug=True)"
      ],
      "metadata": {
        "colab": {
          "base_uri": "https://localhost:8080/",
          "height": 377
        },
        "id": "6daiwSa362zl",
        "outputId": "2027fd96-cf7a-418b-ff15-1104c104a210"
      },
      "execution_count": 57,
      "outputs": [
        {
          "output_type": "stream",
          "name": "stderr",
          "text": [
            "/usr/local/lib/python3.7/dist-packages/seaborn/distributions.py:2619: FutureWarning: `distplot` is a deprecated function and will be removed in a future version. Please adapt your code to use either `displot` (a figure-level function with similar flexibility) or `histplot` (an axes-level function for histograms).\n",
            "  warnings.warn(msg, FutureWarning)\n",
            "/usr/local/lib/python3.7/dist-packages/seaborn/distributions.py:2103: FutureWarning: The `axis` variable is no longer used and will be removed. Instead, assign variables directly to `x` or `y`.\n",
            "  warnings.warn(msg, FutureWarning)\n"
          ]
        },
        {
          "output_type": "execute_result",
          "data": {
            "text/plain": [
              "<matplotlib.axes._subplots.AxesSubplot at 0x7f75f2c24690>"
            ]
          },
          "metadata": {},
          "execution_count": 57
        },
        {
          "output_type": "display_data",
          "data": {
            "image/png": "[encoded data removed]",
            "text/plain": [
              "<Figure size 432x288 with 1 Axes>"
            ]
          },
          "metadata": {
            "needs_background": "light"
          }
        }
      ]
    },
    {
      "cell_type": "code",
      "source": [
        "# show 73%  confidence interval with 10k permutations\n",
        "mean, lower, upper = bootstrap_mean_ci(data, len(data), 10000, 73)\n",
        "print(mean ,lower,upper)"
      ],
      "metadata": {
        "colab": {
          "base_uri": "https://localhost:8080/"
        },
        "id": "bKk7jL-b1DWW",
        "outputId": "0a2c1d77-a6b9-43ec-abc8-c726bb00cbbe"
      },
      "execution_count": 39,
      "outputs": [
        {
          "output_type": "stream",
          "name": "stdout",
          "text": [
            "5.259102895485705 2.0 10.734999999999998\n"
          ]
        }
      ]
    },
    {
      "cell_type": "markdown",
      "source": [
        "Compare the two fleets\n",
        "\n",
        "The business analysts come up a comparison algorithm that requires the upper and lower bounds for the mean in order to say which fleet is better.\n",
        "\n",
        "1. Calculate the mean of both samples.\n",
        "\n",
        "2. Using the bootstrap function that you created:\n",
        "\n",
        "   *  Construct the 95% CI of the mean of the current fleet.\n",
        "   *  Construct the 95% CI of the mean of the new fleet.\n",
        "   *  Are they comparable? (i.e., is one better than the other?) -- you can do this with a permutation test (check the lecture notes!)"
      ],
      "metadata": {
        "id": "2VD0PyzxypGb"
      }
    },
    {
      "cell_type": "code",
      "source": [
        "# show 95% and 85% confidence interval with 20k permutations\n",
        "old_fleets_mean = np.mean(old_fleets)\n",
        "new_fleets_mean = np.mean(new_fleets)\n",
        "\n",
        "old_fleet_mean, lower, upper = bootstrap_mean_ci(old_fleets, len(old_fleets), 20000, 95)\n",
        "new_fleet_mean, lower, upper = bootstrap_mean_ci(new_fleets, len(new_fleets), 20000, 95)\n",
        "\n",
        "\n",
        "print(' 95% CI of the mean of the current fleet',old_fleet_mean)\n",
        "print(' 95% CI of the mean of the new fleet',new_fleet_mean)\n",
        "\n",
        "old_fleet_mean, lower, upper = bootstrap_mean_ci(old_fleets, len(old_fleets), 20000, 85)\n",
        "new_fleet_mean, lower, upper = bootstrap_mean_ci(new_fleets, len(new_fleets), 20000, 85)\n",
        "\n",
        "\n",
        "print(' 85% CI of the mean of the current fleet',old_fleet_mean)\n",
        "print(' 85% CI of the mean of the new fleet',new_fleet_mean)"
      ],
      "metadata": {
        "id": "0QI2V0uBDpqU",
        "colab": {
          "base_uri": "https://localhost:8080/"
        },
        "outputId": "e77191e1-e806-49de-b6a5-d004318e7efe"
      },
      "execution_count": 61,
      "outputs": [
        {
          "output_type": "stream",
          "name": "stdout",
          "text": [
            " 95% CI of the mean of the current fleet 20.63855421686747\n",
            " 95% CI of the mean of the new fleet 30.544303797468356\n",
            " 85% CI of the mean of the current fleet 20.092369477911646\n",
            " 85% CI of the mean of the new fleet 29.49367088607595\n"
          ]
        }
      ]
    },
    {
      "cell_type": "code",
      "source": [
        "# show 85% confidence interval with 20k permutations\n",
        "old_fleets_mean = np.mean(old_fleets)\n",
        "new_fleets_mean = np.mean(new_fleets)\n",
        "\n",
        "old_fleet_mean, lower, upper = bootstrap_mean_ci(old_fleets, len(old_fleets), 20000, 85)\n",
        "\n",
        "new_fleet_mean, lower, upper = bootstrap_mean_ci(new_fleets, len(new_fleets), 20000, 85)\n",
        "\n",
        "\n",
        "print(' 85% CI of the mean of the current fleet',old_fleet_mean)\n",
        "print(' 85% CI of the mean of the new fleet',new_fleet_mean)"
      ],
      "metadata": {
        "colab": {
          "base_uri": "https://localhost:8080/"
        },
        "id": "8vK-WbC00nP_",
        "outputId": "525cf31f-963b-4054-b44b-564a81ed940a"
      },
      "execution_count": 60,
      "outputs": [
        {
          "output_type": "stream",
          "name": "stdout",
          "text": [
            " 85% CI of the mean of the current fleet 20.502008032128515\n",
            " 85% CI of the mean of the new fleet 29.772151898734176\n"
          ]
        }
      ]
    },
    {
      "cell_type": "code",
      "source": [
        "def permut_test(sample1, sample2, n_permutations):\n",
        "    concat = np.concatenate((sample1,sample2))\n",
        "    test_obs = np.mean(sample2) - np.mean(sample1)\n",
        "    count = 0\n",
        "    for i in range(0,n_permutations):\n",
        "        perm = np.random.permutation(concat)\n",
        "        perm1 = perm[:int(len(perm)/2)]\n",
        "        perm2 = perm[int(len(perm)/2):]\n",
        "        test_perm = np.mean(perm2) - np.mean(perm1)\n",
        "        count +=  test_perm > test_obs\n",
        "    pvalue = count/n_permutations\n",
        "    return pvalue\n",
        "\n",
        "p_value = permut_test(new_fleets,old_fleets, 30000)\n",
        "print('if ', p_value, ' > 0.05, we have failed to reject the null hypothesis')"
      ],
      "metadata": {
        "id": "f-20Snr-D-A1",
        "colab": {
          "base_uri": "https://localhost:8080/"
        },
        "outputId": "085db838-7f40-4473-addd-d01ce7d2b2e1"
      },
      "execution_count": 41,
      "outputs": [
        {
          "output_type": "stream",
          "name": "stdout",
          "text": [
            "if  1.0  > 0.05, we have failed to reject the null hypothesis\n"
          ]
        }
      ]
    },
    {
      "cell_type": "code",
      "source": [
        "dem_share_PA = [60.08, 40.64, 36.07, 41.21, 31.04, 43.78, 44.08, 46.85, 44.71, 46.15, 63.10, 52.20, 43.18, 40.24, 39.92, 47.87, 37.77, 40.11, 49.85, 48.61, 38.62, 54.25, 34.84, 47.75, 43.82, 55.97, 58.23, 42.97, 42.38, 36.11, 37.53, 42.65, 50.96, 47.43, 56.24, 45.60, 46.39, 35.22, 48.56, 32.97, 57.88, 36.05, 37.72, 50.36, 32.12, 41.55, 54.66, 57.81, 54.58, 32.88, 54.37, 40.45, 47.61, 60.49, 43.11, 27.32, 44.03, 33.56, 37.26, 54.64, 43.12, 25.34, 49.79, 83.56, 40.09, 60.81, 49.81]"
      ],
      "metadata": {
        "id": "AEC2EbaXwieo"
      },
      "execution_count": 42,
      "outputs": []
    },
    {
      "cell_type": "code",
      "source": [
        "dem_share_OH = [56.94, 50.46, 65.99, 45.88, 42.23, 45.26, 57.01, 53.61, 59.10, 61.48, 43.43, 44.69, 54.59, 48.36, 45.89, 48.62, 43.92, 38.23, 28.79, 63.57, 38.07, 40.18, 43.05, 41.56, 42.49, 36.06, 52.76, 46.07, 39.43, 39.26, 47.47, 27.92, 38.01, 45.45, 29.07, 28.94, 51.28, 50.10, 39.84, 36.43, 35.71, 31.47, 47.01, 40.10, 48.76, 31.56, 39.86, 45.31, 35.47, 51.38, 46.33, 48.73, 41.77, 41.32, 48.46, 53.14, 34.01, 54.74, 40.67, 38.96, 46.29, 38.25, 6.80, 31.75, 46.33, 44.90, 33.57, 38.10, 39.67, 40.47, 49.44, 37.62, 36.71, 46.73, 42.20, 53.16, 52.40, 58.36, 68.02, 38.53, 34.58, 69.64, 60.50, 53.53, 36.54, 49.58, 41.97, 38.11]\n"
      ],
      "metadata": {
        "id": "Ei8kx8wr3pkB"
      },
      "execution_count": 43,
      "outputs": []
    },
    {
      "cell_type": "code",
      "source": [
        "print(len(dem_share_OH))\n",
        "print(len(dem_share_PA))"
      ],
      "metadata": {
        "colab": {
          "base_uri": "https://localhost:8080/"
        },
        "id": "UuCYODe93s-C",
        "outputId": "9011f79b-b3e5-4c19-ad45-38476491ee4e"
      },
      "execution_count": 44,
      "outputs": [
        {
          "output_type": "stream",
          "name": "stdout",
          "text": [
            "88\n",
            "67\n"
          ]
        }
      ]
    },
    {
      "cell_type": "code",
      "source": [
        "mean, lower, upper = bootstrap_mean_ci(dem_share_PA, len(dem_share_PA), 100000, 98)\n",
        "print(lower,upper)"
      ],
      "metadata": {
        "colab": {
          "base_uri": "https://localhost:8080/"
        },
        "id": "w7Jf4wIU4HBB",
        "outputId": "663dc285-a7ae-46a6-c2b6-d2fc4041a37c"
      },
      "execution_count": 45,
      "outputs": [
        {
          "output_type": "stream",
          "name": "stdout",
          "text": [
            "26.6468 60.598800000000004\n"
          ]
        }
      ]
    },
    {
      "cell_type": "code",
      "source": [
        "mean, lower, upper = bootstrap_mean_ci(dem_share_OH, len(dem_share_OH), 100000, 98)\n",
        "print(lower,upper)"
      ],
      "metadata": {
        "colab": {
          "base_uri": "https://localhost:8080/"
        },
        "id": "PQZ4u2Eh456S",
        "outputId": "26c58f92-8504-41f9-d1e8-92142bdd2734"
      },
      "execution_count": 47,
      "outputs": [
        {
          "output_type": "stream",
          "name": "stdout",
          "text": [
            "99.0\n",
            "27.92 69.64\n"
          ]
        }
      ]
    },
    {
      "cell_type": "code",
      "source": [
        "p_value = permut_test(dem_share_OH,dem_share_PA, 30000)\n",
        "print('if ', p_value, ' > 0.05, we have failed to reject the null hypothesis')"
      ],
      "metadata": {
        "colab": {
          "base_uri": "https://localhost:8080/"
        },
        "id": "lepQn19H5qRR",
        "outputId": "644b200c-8ec8-4f8f-f1b5-be8d4bdcfe27"
      },
      "execution_count": 48,
      "outputs": [
        {
          "output_type": "stream",
          "name": "stdout",
          "text": [
            "if  0.23036666666666666  > 0.05, we have failed to reject the null hypothesis\n"
          ]
        }
      ]
    }
  ]
}