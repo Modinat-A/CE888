{
  "nbformat": 4,
  "nbformat_minor": 0,
  "metadata": {
    "colab": {
      "name": "Linear_Regression.ipynb",
      "provenance": [],
      "authorship_tag": "ABX9TyMsOs7Kh6By/rMmMHTDuV/s",
      "include_colab_link": true
    },
    "kernelspec": {
      "name": "python3",
      "display_name": "Python 3"
    },
    "language_info": {
      "name": "python"
    },
    "accelerator": "GPU",
    "gpuClass": "standard"
  },
  "cells": [
    {
      "cell_type": "markdown",
      "metadata": {
        "id": "view-in-github",
        "colab_type": "text"
      },
      "source": [
        "<a href=\"https://colab.research.google.com/github/Modinat-A/CE888/blob/main/one_vs_all/Linear_Regression.ipynb\" target=\"_parent\"><img src=\"https://colab.research.google.com/assets/colab-badge.svg\" alt=\"Open In Colab\"/></a>"
      ]
    },
    {
      "cell_type": "code",
      "execution_count": 1,
      "metadata": {
        "id": "A05E0S-hpIho"
      },
      "outputs": [],
      "source": [
        "# logistic regression for multi-class classification using a one-vs-rest\n",
        "import pandas as pd\n",
        "%matplotlib inline\n",
        "import re\n",
        "import matplotlib\n",
        "import numpy as np\n",
        "import matplotlib.pyplot as plt\n",
        "import pandas as pd\n",
        "from sklearn.model_selection import train_test_split\n",
        "from sklearn.datasets import make_classification\n",
        "from sklearn.feature_extraction.text import TfidfVectorizer\n",
        "from sklearn.metrics import accuracy_score\n",
        "from sklearn.multiclass import OneVsRestClassifier\n",
        "import nltk\n",
        "from sklearn import kn\n",
        "from sklearn.svm import LinearSVC\n",
        "from sklearn.svm import SVC\n",
        "from sklearn.linear_model import LogisticRegression\n",
        "from sklearn.pipeline import Pipeline\n",
        "import seaborn as sns\n",
        "from sklearn.metrics import f1_score\n",
        "from sklearn.preprocessing import MultiLabelBinarizer"
      ]
    },
    {
      "cell_type": "code",
      "source": [
        "stopwords =nltk.download('stopwords')"
      ],
      "metadata": {
        "colab": {
          "base_uri": "https://localhost:8080/"
        },
        "id": "7f95lBH2P-Af",
        "outputId": "154de49d-1f6b-4e9a-beb7-b2c2029232ac"
      },
      "execution_count": 2,
      "outputs": [
        {
          "output_type": "stream",
          "name": "stderr",
          "text": [
            "[nltk_data] Downloading package stopwords to /root/nltk_data...\n",
            "[nltk_data]   Unzipping corpora/stopwords.zip.\n"
          ]
        }
      ]
    },
    {
      "cell_type": "code",
      "source": [
        "from nltk.corpus import stopwords\n",
        "stop = stopwords.words('english')"
      ],
      "metadata": {
        "id": "MKfK5YmqPsSE"
      },
      "execution_count": 3,
      "outputs": []
    },
    {
      "cell_type": "markdown",
      "source": [
        "## Data Exploration"
      ],
      "metadata": {
        "id": "RY4kdz3KdM-C"
      }
    },
    {
      "cell_type": "code",
      "source": [
        "df.head(5)"
      ],
      "metadata": {
        "colab": {
          "base_uri": "https://localhost:8080/",
          "height": 206
        },
        "id": "isyEunAHciEG",
        "outputId": "923236d7-cf68-4c2f-958b-c8a7a79e3755"
      },
      "execution_count": 26,
      "outputs": [
        {
          "output_type": "execute_result",
          "data": {
            "text/plain": [
              "         id                                              title  \\\n",
              "0  11882252  cfeom1, classic familial form congenital fibro...   \n",
              "1  11882251  algorithm program finding sequence specific ol...   \n",
              "2  11922865  nerve growth factor selectively regulates expr...   \n",
              "3  11879527  use breast conserving surgery: linking insuran...   \n",
              "4  11914147  assessment infectious diseases surveillance sy...   \n",
              "\n",
              "                                              labels  fold  \n",
              "0  Female\\tFibrosis\\tGenetic Linkage\\tGenetic Var...     3  \n",
              "1  Algorithms\\tComputational Biology\\tCupriavidus...     0  \n",
              "2  Animals\\tGene Expression Profiling\\tGene Expre...     0  \n",
              "3  Age Factors\\tAged\\tAged, 80 and over\\tBreast N...     0  \n",
              "4  Armenia\\tCommunicable Disease Control\\tDisease...     7  "
            ],
            "text/html": [
              "\n",
              "  <div id=\"df-c5536abb-dd9f-48cb-86ab-28fb35d4fb2b\">\n",
              "    <div class=\"colab-df-container\">\n",
              "      <div>\n",
              "<style scoped>\n",
              "    .dataframe tbody tr th:only-of-type {\n",
              "        vertical-align: middle;\n",
              "    }\n",
              "\n",
              "    .dataframe tbody tr th {\n",
              "        vertical-align: top;\n",
              "    }\n",
              "\n",
              "    .dataframe thead th {\n",
              "        text-align: right;\n",
              "    }\n",
              "</style>\n",
              "<table border=\"1\" class=\"dataframe\">\n",
              "  <thead>\n",
              "    <tr style=\"text-align: right;\">\n",
              "      <th></th>\n",
              "      <th>id</th>\n",
              "      <th>title</th>\n",
              "      <th>labels</th>\n",
              "      <th>fold</th>\n",
              "    </tr>\n",
              "  </thead>\n",
              "  <tbody>\n",
              "    <tr>\n",
              "      <th>0</th>\n",
              "      <td>11882252</td>\n",
              "      <td>cfeom1, classic familial form congenital fibro...</td>\n",
              "      <td>Female\\tFibrosis\\tGenetic Linkage\\tGenetic Var...</td>\n",
              "      <td>3</td>\n",
              "    </tr>\n",
              "    <tr>\n",
              "      <th>1</th>\n",
              "      <td>11882251</td>\n",
              "      <td>algorithm program finding sequence specific ol...</td>\n",
              "      <td>Algorithms\\tComputational Biology\\tCupriavidus...</td>\n",
              "      <td>0</td>\n",
              "    </tr>\n",
              "    <tr>\n",
              "      <th>2</th>\n",
              "      <td>11922865</td>\n",
              "      <td>nerve growth factor selectively regulates expr...</td>\n",
              "      <td>Animals\\tGene Expression Profiling\\tGene Expre...</td>\n",
              "      <td>0</td>\n",
              "    </tr>\n",
              "    <tr>\n",
              "      <th>3</th>\n",
              "      <td>11879527</td>\n",
              "      <td>use breast conserving surgery: linking insuran...</td>\n",
              "      <td>Age Factors\\tAged\\tAged, 80 and over\\tBreast N...</td>\n",
              "      <td>0</td>\n",
              "    </tr>\n",
              "    <tr>\n",
              "      <th>4</th>\n",
              "      <td>11914147</td>\n",
              "      <td>assessment infectious diseases surveillance sy...</td>\n",
              "      <td>Armenia\\tCommunicable Disease Control\\tDisease...</td>\n",
              "      <td>7</td>\n",
              "    </tr>\n",
              "  </tbody>\n",
              "</table>\n",
              "</div>\n",
              "      <button class=\"colab-df-convert\" onclick=\"convertToInteractive('df-c5536abb-dd9f-48cb-86ab-28fb35d4fb2b')\"\n",
              "              title=\"Convert this dataframe to an interactive table.\"\n",
              "              style=\"display:none;\">\n",
              "        \n",
              "  <svg xmlns=\"http://www.w3.org/2000/svg\" height=\"24px\"viewBox=\"0 0 24 24\"\n",
              "       width=\"24px\">\n",
              "    <path d=\"M0 0h24v24H0V0z\" fill=\"none\"/>\n",
              "    <path d=\"M18.56 5.44l.94 2.06.94-2.06 2.06-.94-2.06-.94-.94-2.06-.94 2.06-2.06.94zm-11 1L8.5 8.5l.94-2.06 2.06-.94-2.06-.94L8.5 2.5l-.94 2.06-2.06.94zm10 10l.94 2.06.94-2.06 2.06-.94-2.06-.94-.94-2.06-.94 2.06-2.06.94z\"/><path d=\"M17.41 7.96l-1.37-1.37c-.4-.4-.92-.59-1.43-.59-.52 0-1.04.2-1.43.59L10.3 9.45l-7.72 7.72c-.78.78-.78 2.05 0 2.83L4 21.41c.39.39.9.59 1.41.59.51 0 1.02-.2 1.41-.59l7.78-7.78 2.81-2.81c.8-.78.8-2.07 0-2.86zM5.41 20L4 18.59l7.72-7.72 1.47 1.35L5.41 20z\"/>\n",
              "  </svg>\n",
              "      </button>\n",
              "      \n",
              "  <style>\n",
              "    .colab-df-container {\n",
              "      display:flex;\n",
              "      flex-wrap:wrap;\n",
              "      gap: 12px;\n",
              "    }\n",
              "\n",
              "    .colab-df-convert {\n",
              "      background-color: #E8F0FE;\n",
              "      border: none;\n",
              "      border-radius: 50%;\n",
              "      cursor: pointer;\n",
              "      display: none;\n",
              "      fill: #1967D2;\n",
              "      height: 32px;\n",
              "      padding: 0 0 0 0;\n",
              "      width: 32px;\n",
              "    }\n",
              "\n",
              "    .colab-df-convert:hover {\n",
              "      background-color: #E2EBFA;\n",
              "      box-shadow: 0px 1px 2px rgba(60, 64, 67, 0.3), 0px 1px 3px 1px rgba(60, 64, 67, 0.15);\n",
              "      fill: #174EA6;\n",
              "    }\n",
              "\n",
              "    [theme=dark] .colab-df-convert {\n",
              "      background-color: #3B4455;\n",
              "      fill: #D2E3FC;\n",
              "    }\n",
              "\n",
              "    [theme=dark] .colab-df-convert:hover {\n",
              "      background-color: #434B5C;\n",
              "      box-shadow: 0px 1px 3px 1px rgba(0, 0, 0, 0.15);\n",
              "      filter: drop-shadow(0px 1px 2px rgba(0, 0, 0, 0.3));\n",
              "      fill: #FFFFFF;\n",
              "    }\n",
              "  </style>\n",
              "\n",
              "      <script>\n",
              "        const buttonEl =\n",
              "          document.querySelector('#df-c5536abb-dd9f-48cb-86ab-28fb35d4fb2b button.colab-df-convert');\n",
              "        buttonEl.style.display =\n",
              "          google.colab.kernel.accessAllowed ? 'block' : 'none';\n",
              "\n",
              "        async function convertToInteractive(key) {\n",
              "          const element = document.querySelector('#df-c5536abb-dd9f-48cb-86ab-28fb35d4fb2b');\n",
              "          const dataTable =\n",
              "            await google.colab.kernel.invokeFunction('convertToInteractive',\n",
              "                                                     [key], {});\n",
              "          if (!dataTable) return;\n",
              "\n",
              "          const docLinkHtml = 'Like what you see? Visit the ' +\n",
              "            '<a target=\"_blank\" href=https://colab.research.google.com/notebooks/data_table.ipynb>data table notebook</a>'\n",
              "            + ' to learn more about interactive tables.';\n",
              "          element.innerHTML = '';\n",
              "          dataTable['output_type'] = 'display_data';\n",
              "          await google.colab.output.renderOutput(dataTable, element);\n",
              "          const docLink = document.createElement('div');\n",
              "          docLink.innerHTML = docLinkHtml;\n",
              "          element.appendChild(docLink);\n",
              "        }\n",
              "      </script>\n",
              "    </div>\n",
              "  </div>\n",
              "  "
            ]
          },
          "metadata": {},
          "execution_count": 26
        }
      ]
    },
    {
      "cell_type": "markdown",
      "source": [
        "Create Classifier Usung logistic regression"
      ],
      "metadata": {
        "id": "z6PlTUbgW4cP"
      }
    },
    {
      "cell_type": "code",
      "source": [
        "ovr = Pipeline([(\"vectorizer\",\n",
        "                 TfidfVectorizer(max_features = 25000)), \n",
        "                (\"classifier\", OneVsRestClassifier(LogisticRegression(), n_jobs = 4))])"
      ],
      "metadata": {
        "id": "8k_58ieDW2sh"
      },
      "execution_count": 4,
      "outputs": []
    },
    {
      "cell_type": "code",
      "source": [
        "def fit_model(train_df,y_train,test_df,y_test):\n",
        "    # fit model\n",
        "    ovr.fit(train_df, y_train)\n",
        "    y_pred = ovr.predict(test_df)\n",
        "    return (f1_score(y_test, y_pred, average=\"samples\"))\n",
        "\n",
        "\n",
        "def matrix(df):\n",
        "      df_labels = df[\"labels\"].values\n",
        "      df_labels = [[l for l in label_string.split()] for label_string in df_labels]\n",
        "      return MultiLabelBinarizer.transform(df_labels)"
      ],
      "metadata": {
        "id": "X5C6xmKRWWXx"
      },
      "execution_count": 5,
      "outputs": []
    },
    {
      "cell_type": "code",
      "source": [
        "# creating a function to plit a portion nof dataset for training and testing \n",
        "def load_dataset(df, fold, all_titles):\n",
        "    if all_titles != \"True\":\n",
        "        print(\"Using a portion of the dataset\")\n",
        "        df = df[df[\"fold\"].isin(range(0,10))]\n",
        "    else:\n",
        "        print(\"Using all dataset\")\n",
        "\n",
        "    labels = df[\"labels\"].values\n",
        "    labels = [[l for l in label_string.split()] for label_string in labels]\n",
        "    multilabel_binarizer = MultiLabelBinarizer(sparse_output = True)\n",
        "    multilabel_binarizer.fit(labels)\n",
        "    \n",
        "    def to_indicator_matrix(some_df):\n",
        "        some_df_labels = some_df[\"labels\"].values\n",
        "        some_df_labels = [[l for l in label_string.split()] for label_string in some_df_labels]\n",
        "        return multilabel_binarizer.transform(some_df_labels)\n",
        "    test_df = df[df[\"fold\"] == fold]\n",
        "    X_test = test_df[\"title\"].values\n",
        "    y_test = to_indicator_matrix(test_df)\n",
        "\n",
        "    train_df = df[df[\"fold\"] != fold]\n",
        "    X_train = train_df[\"title\"].values\n",
        "    y_train = to_indicator_matrix(train_df)\n",
        "    \n",
        "    return X_train, y_train, X_test, y_test"
      ],
      "metadata": {
        "id": "PUHKcE9dXsdO"
      },
      "execution_count": 6,
      "outputs": []
    },
    {
      "cell_type": "code",
      "source": [
        "SINGLE_FOLD = True\n",
        "ALL_TITLES = True\n",
        "\n",
        "def evaluate(dataset):\n",
        "    df = pd.read_csv(dataset)\n",
        "    df= df.drop(['id'], axis=1)\n",
        "    df['title'] = df['title'].str.lower()\n",
        "    df['title'] = df['title'].apply(lambda x: ' '.join([word for word in x.split() if word not in (stop)]))\n",
        "    \n",
        "    scores = []\n",
        "    for i in range(0, 10):\n",
        "        train_df, y_train, test_df, y_test = load_dataset(df, i, all_titles = ALL_TITLES)\n",
        "        ovr.fit(train_df, y_train)\n",
        "        y_pred = ovr.predict(test_df)\n",
        "\n",
        "        scores.append(f1_score(y_test, y_pred, average=\"samples\"))\n",
        "\n",
        "        if SINGLE_FOLD:\n",
        "            break\n",
        "    return np.mean(scores)\n",
        "\n",
        "print(\"EconBiz average F-1 score:\", evaluate('econbiz.csv'))"
      ],
      "metadata": {
        "colab": {
          "base_uri": "https://localhost:8080/"
        },
        "id": "IVqDPR0M1szd",
        "outputId": "ca97c40f-604d-4bbe-8022-2716d7b699c5"
      },
      "execution_count": 9,
      "outputs": [
        {
          "output_type": "stream",
          "name": "stdout",
          "text": [
            "Using a portion of the dataset\n",
            "EconBiz average F-1 score: 0.2056139914788414\n"
          ]
        }
      ]
    }
  ]
}